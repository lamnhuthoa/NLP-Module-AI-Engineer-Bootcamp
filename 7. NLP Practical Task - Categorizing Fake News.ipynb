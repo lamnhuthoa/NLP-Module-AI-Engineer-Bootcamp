{
 "cells": [
  {
   "cell_type": "code",
   "execution_count": 1,
   "id": "01b9981b-1c56-4ad8-aec0-22117a6a7831",
   "metadata": {},
   "outputs": [
    {
     "name": "stderr",
     "output_type": "stream",
     "text": [
      "[nltk_data] Downloading package stopwords to\n",
      "[nltk_data]     C:\\Users\\Admin\\AppData\\Roaming\\nltk_data...\n",
      "[nltk_data]   Package stopwords is already up-to-date!\n",
      "[nltk_data] Downloading package punkt to\n",
      "[nltk_data]     C:\\Users\\Admin\\AppData\\Roaming\\nltk_data...\n",
      "[nltk_data]   Package punkt is already up-to-date!\n",
      "[nltk_data] Downloading package punkt_tab to\n",
      "[nltk_data]     C:\\Users\\Admin\\AppData\\Roaming\\nltk_data...\n",
      "[nltk_data]   Package punkt_tab is already up-to-date!\n",
      "[nltk_data] Downloading package wordnet to\n",
      "[nltk_data]     C:\\Users\\Admin\\AppData\\Roaming\\nltk_data...\n",
      "[nltk_data]   Package wordnet is already up-to-date!\n"
     ]
    },
    {
     "data": {
      "text/plain": [
       "True"
      ]
     },
     "execution_count": 1,
     "metadata": {},
     "output_type": "execute_result"
    }
   ],
   "source": [
    "import seaborn as sns\n",
    "import spacy\n",
    "import pandas as pd\n",
    "import matplotlib.pyplot as plt\n",
    "from spacy import displacy\n",
    "from spacy import tokenizer\n",
    "import re\n",
    "import nltk\n",
    "from nltk.tokenize import word_tokenize\n",
    "from nltk.stem import PorterStemmer, WordNetLemmatizer\n",
    "from nltk.corpus import stopwords\n",
    "from vaderSentiment.vaderSentiment import SentimentIntensityAnalyzer\n",
    "import gensim\n",
    "import gensim.corpora as corpora\n",
    "from gensim.models.coherencemodel import CoherenceModel\n",
    "from gensim.models import LsiModel, TfidfModel\n",
    "from sklearn.feature_extraction.text import TfidfVectorizer\n",
    "from sklearn.feature_extraction.text import CountVectorizer, TfidfVectorizer\n",
    "from sklearn.model_selection import train_test_split\n",
    "from sklearn.linear_model import LogisticRegression, SGDClassifier\n",
    "from sklearn.metrics import accuracy_score, classification_report\n",
    "\n",
    "nltk.download('stopwords')\n",
    "nltk.download('punkt')\n",
    "nltk.download('punkt_tab')\n",
    "nltk.download('wordnet')"
   ]
  },
  {
   "cell_type": "code",
   "execution_count": 2,
   "id": "d69c19c7-7e49-446d-a62b-5810dcca21be",
   "metadata": {},
   "outputs": [],
   "source": [
    "# Set plot options\n",
    "plt.rcParams['figure.figsize'] = (12,8)\n",
    "default_plot_color = \"#00bfbf\""
   ]
  },
  {
   "cell_type": "code",
   "execution_count": 3,
   "id": "49794a99-7ed8-49ae-8c55-5f6c0d06a990",
   "metadata": {},
   "outputs": [],
   "source": [
    "data = pd.read_csv(\"fake_news_data.csv\")"
   ]
  },
  {
   "cell_type": "code",
   "execution_count": 4,
   "id": "486bd78b-cd40-41e4-b633-afebac6a0107",
   "metadata": {},
   "outputs": [
    {
     "data": {
      "text/html": [
       "<div>\n",
       "<style scoped>\n",
       "    .dataframe tbody tr th:only-of-type {\n",
       "        vertical-align: middle;\n",
       "    }\n",
       "\n",
       "    .dataframe tbody tr th {\n",
       "        vertical-align: top;\n",
       "    }\n",
       "\n",
       "    .dataframe thead th {\n",
       "        text-align: right;\n",
       "    }\n",
       "</style>\n",
       "<table border=\"1\" class=\"dataframe\">\n",
       "  <thead>\n",
       "    <tr style=\"text-align: right;\">\n",
       "      <th></th>\n",
       "      <th>title</th>\n",
       "      <th>text</th>\n",
       "      <th>date</th>\n",
       "      <th>fake_or_factual</th>\n",
       "    </tr>\n",
       "  </thead>\n",
       "  <tbody>\n",
       "    <tr>\n",
       "      <th>0</th>\n",
       "      <td>New Study Claims Chocolate Cures Cancer</td>\n",
       "      <td>A groundbreaking study from an obscure lab cla...</td>\n",
       "      <td>15-Jan-24</td>\n",
       "      <td>Fake News</td>\n",
       "    </tr>\n",
       "    <tr>\n",
       "      <th>1</th>\n",
       "      <td>Scientists Discover New Species of Fish in Pac...</td>\n",
       "      <td>Marine biologists from NOAA announced the disc...</td>\n",
       "      <td>10-Feb-24</td>\n",
       "      <td>Factual News</td>\n",
       "    </tr>\n",
       "    <tr>\n",
       "      <th>2</th>\n",
       "      <td>Alien Fossils Found in Antarctica</td>\n",
       "      <td>A viral blog post claims researchers uncovered...</td>\n",
       "      <td>25-Mar-24</td>\n",
       "      <td>Fake News</td>\n",
       "    </tr>\n",
       "    <tr>\n",
       "      <th>3</th>\n",
       "      <td>New Solar Panel Design Boosts Efficiency by 30%</td>\n",
       "      <td>Engineers at MIT developed a solar panel with ...</td>\n",
       "      <td>5-Apr-24</td>\n",
       "      <td>Factual News</td>\n",
       "    </tr>\n",
       "    <tr>\n",
       "      <th>4</th>\n",
       "      <td>Tom Hanks Secretly Runs a Time Travel Agency</td>\n",
       "      <td>A conspiracy website claims Tom Hanks operates...</td>\n",
       "      <td>12-May-24</td>\n",
       "      <td>Fake News</td>\n",
       "    </tr>\n",
       "  </tbody>\n",
       "</table>\n",
       "</div>"
      ],
      "text/plain": [
       "                                               title  \\\n",
       "0            New Study Claims Chocolate Cures Cancer   \n",
       "1  Scientists Discover New Species of Fish in Pac...   \n",
       "2                  Alien Fossils Found in Antarctica   \n",
       "3    New Solar Panel Design Boosts Efficiency by 30%   \n",
       "4       Tom Hanks Secretly Runs a Time Travel Agency   \n",
       "\n",
       "                                                text       date  \\\n",
       "0  A groundbreaking study from an obscure lab cla...  15-Jan-24   \n",
       "1  Marine biologists from NOAA announced the disc...  10-Feb-24   \n",
       "2  A viral blog post claims researchers uncovered...  25-Mar-24   \n",
       "3  Engineers at MIT developed a solar panel with ...   5-Apr-24   \n",
       "4  A conspiracy website claims Tom Hanks operates...  12-May-24   \n",
       "\n",
       "  fake_or_factual  \n",
       "0       Fake News  \n",
       "1    Factual News  \n",
       "2       Fake News  \n",
       "3    Factual News  \n",
       "4       Fake News  "
      ]
     },
     "execution_count": 4,
     "metadata": {},
     "output_type": "execute_result"
    }
   ],
   "source": [
    "data.head()"
   ]
  },
  {
   "cell_type": "code",
   "execution_count": 5,
   "id": "d6a1cbf3-21f4-4d8f-af5e-eb30fedb0dee",
   "metadata": {},
   "outputs": [
    {
     "name": "stdout",
     "output_type": "stream",
     "text": [
      "<class 'pandas.core.frame.DataFrame'>\n",
      "RangeIndex: 331 entries, 0 to 330\n",
      "Data columns (total 4 columns):\n",
      " #   Column           Non-Null Count  Dtype \n",
      "---  ------           --------------  ----- \n",
      " 0   title            331 non-null    object\n",
      " 1   text             331 non-null    object\n",
      " 2   date             330 non-null    object\n",
      " 3   fake_or_factual  330 non-null    object\n",
      "dtypes: object(4)\n",
      "memory usage: 10.5+ KB\n"
     ]
    }
   ],
   "source": [
    "data.info()"
   ]
  },
  {
   "cell_type": "code",
   "execution_count": 6,
   "id": "50a1c688-f0ea-4e3f-be67-4d3f164c9927",
   "metadata": {},
   "outputs": [
    {
     "data": {
      "text/plain": [
       "Text(0.5, 1.0, 'Count of Article Classification')"
      ]
     },
     "execution_count": 6,
     "metadata": {},
     "output_type": "execute_result"
    },
    {
     "data": {
      "image/png": "[encoded data removed]",
      "text/plain": [
       "<Figure size 1200x800 with 1 Axes>"
      ]
     },
     "metadata": {},
     "output_type": "display_data"
    }
   ],
   "source": [
    "data['fake_or_factual'].value_counts().plot(kind='bar', color=default_plot_color)\n",
    "plt.title(\"Count of Article Classification\")"
   ]
  },
  {
   "cell_type": "markdown",
   "id": "dd51b3e1-9bf2-44f6-928d-fec97c40f5d9",
   "metadata": {},
   "source": [
    "### POS Tagging"
   ]
  },
  {
   "cell_type": "code",
   "execution_count": 7,
   "id": "27dd271f-dfd2-4065-bf26-7c48b6640374",
   "metadata": {},
   "outputs": [],
   "source": [
    "nlp = spacy.load(\"en_core_web_sm\")"
   ]
  },
  {
   "cell_type": "code",
   "execution_count": 8,
   "id": "bded3052-3479-4975-95ba-b14700e35acd",
   "metadata": {},
   "outputs": [],
   "source": [
    "fake_news = data[data['fake_or_factual'] == 'Fake News']\n",
    "fact_news = data[data['fake_or_factual'] == 'Factual News']"
   ]
  },
  {
   "cell_type": "code",
   "execution_count": 9,
   "id": "22bbd086-833b-44bf-87a4-025bd7799450",
   "metadata": {},
   "outputs": [],
   "source": [
    "fake_spacydocs = list(nlp.pipe(fake_news['text']))\n",
    "fact_spacydocs = list(nlp.pipe(fact_news['text']))"
   ]
  },
  {
   "cell_type": "code",
   "execution_count": 10,
   "id": "37138af5-b526-4252-a7f5-65089f8fbb4e",
   "metadata": {},
   "outputs": [],
   "source": [
    "def extract_token_tags(doc:spacy.tokens.doc.Doc):\n",
    "    return [(i.text, i.ent_type_, i.pos_) for i in doc]"
   ]
  },
  {
   "cell_type": "code",
   "execution_count": 11,
   "id": "66b16a9f-7f4c-46cc-a78a-c6c1a9674065",
   "metadata": {},
   "outputs": [],
   "source": [
    "fake_tagsdf = []\n",
    "columns = ['token', 'ner_tag', 'pos_tag']"
   ]
  },
  {
   "cell_type": "code",
   "execution_count": 12,
   "id": "5686efcb-2063-471c-a5ac-39316fd930c9",
   "metadata": {},
   "outputs": [],
   "source": [
    "for ix, doc in enumerate(fake_spacydocs):\n",
    "    tags = extract_token_tags(doc)\n",
    "    tags = pd.DataFrame(tags)\n",
    "    tags.columns = columns\n",
    "    fake_tagsdf.append(tags)"
   ]
  },
  {
   "cell_type": "code",
   "execution_count": 13,
   "id": "742034fb-67e7-45bd-b1de-4beea20fe7ab",
   "metadata": {},
   "outputs": [],
   "source": [
    "fake_tagsdf = pd.concat(fake_tagsdf)"
   ]
  },
  {
   "cell_type": "code",
   "execution_count": 14,
   "id": "7537e17f-82bc-40f8-881c-7d46fe3e449a",
   "metadata": {},
   "outputs": [],
   "source": [
    "fact_tagsdf = []\n",
    "\n",
    "for ix, doc in enumerate(fact_spacydocs):\n",
    "    tags = extract_token_tags(doc)\n",
    "    tags = pd.DataFrame(tags)\n",
    "    tags.columns = columns\n",
    "    fact_tagsdf.append(tags)"
   ]
  },
  {
   "cell_type": "code",
   "execution_count": 15,
   "id": "1f8f2e02-07d8-49de-a23e-6508dd13ffa2",
   "metadata": {},
   "outputs": [],
   "source": [
    "fact_tagsdf = pd.concat(fact_tagsdf)"
   ]
  },
  {
   "cell_type": "code",
   "execution_count": 16,
   "id": "da0003ba-69c6-4bdc-b534-b6bac44eb297",
   "metadata": {},
   "outputs": [
    {
     "data": {
      "text/html": [
       "<div>\n",
       "<style scoped>\n",
       "    .dataframe tbody tr th:only-of-type {\n",
       "        vertical-align: middle;\n",
       "    }\n",
       "\n",
       "    .dataframe tbody tr th {\n",
       "        vertical-align: top;\n",
       "    }\n",
       "\n",
       "    .dataframe thead th {\n",
       "        text-align: right;\n",
       "    }\n",
       "</style>\n",
       "<table border=\"1\" class=\"dataframe\">\n",
       "  <thead>\n",
       "    <tr style=\"text-align: right;\">\n",
       "      <th></th>\n",
       "      <th>token</th>\n",
       "      <th>ner_tag</th>\n",
       "      <th>pos_tag</th>\n",
       "    </tr>\n",
       "  </thead>\n",
       "  <tbody>\n",
       "    <tr>\n",
       "      <th>0</th>\n",
       "      <td>A</td>\n",
       "      <td></td>\n",
       "      <td>DET</td>\n",
       "    </tr>\n",
       "    <tr>\n",
       "      <th>1</th>\n",
       "      <td>groundbreaking</td>\n",
       "      <td></td>\n",
       "      <td>NOUN</td>\n",
       "    </tr>\n",
       "    <tr>\n",
       "      <th>2</th>\n",
       "      <td>study</td>\n",
       "      <td></td>\n",
       "      <td>NOUN</td>\n",
       "    </tr>\n",
       "    <tr>\n",
       "      <th>3</th>\n",
       "      <td>from</td>\n",
       "      <td></td>\n",
       "      <td>ADP</td>\n",
       "    </tr>\n",
       "    <tr>\n",
       "      <th>4</th>\n",
       "      <td>an</td>\n",
       "      <td></td>\n",
       "      <td>DET</td>\n",
       "    </tr>\n",
       "  </tbody>\n",
       "</table>\n",
       "</div>"
      ],
      "text/plain": [
       "            token ner_tag pos_tag\n",
       "0               A             DET\n",
       "1  groundbreaking            NOUN\n",
       "2           study            NOUN\n",
       "3            from             ADP\n",
       "4              an             DET"
      ]
     },
     "execution_count": 16,
     "metadata": {},
     "output_type": "execute_result"
    }
   ],
   "source": [
    "fake_tagsdf.head()"
   ]
  },
  {
   "cell_type": "code",
   "execution_count": 17,
   "id": "50c86474-945c-4c27-82c1-f1ce22dd552c",
   "metadata": {},
   "outputs": [
    {
     "data": {
      "text/html": [
       "<div>\n",
       "<style scoped>\n",
       "    .dataframe tbody tr th:only-of-type {\n",
       "        vertical-align: middle;\n",
       "    }\n",
       "\n",
       "    .dataframe tbody tr th {\n",
       "        vertical-align: top;\n",
       "    }\n",
       "\n",
       "    .dataframe thead th {\n",
       "        text-align: right;\n",
       "    }\n",
       "</style>\n",
       "<table border=\"1\" class=\"dataframe\">\n",
       "  <thead>\n",
       "    <tr style=\"text-align: right;\">\n",
       "      <th></th>\n",
       "      <th>token</th>\n",
       "      <th>pos_tag</th>\n",
       "      <th>counts</th>\n",
       "    </tr>\n",
       "  </thead>\n",
       "  <tbody>\n",
       "    <tr>\n",
       "      <th>12</th>\n",
       "      <td>.</td>\n",
       "      <td>PUNCT</td>\n",
       "      <td>334</td>\n",
       "    </tr>\n",
       "    <tr>\n",
       "      <th>10</th>\n",
       "      <td>,</td>\n",
       "      <td>PUNCT</td>\n",
       "      <td>269</td>\n",
       "    </tr>\n",
       "    <tr>\n",
       "      <th>28</th>\n",
       "      <td>A</td>\n",
       "      <td>DET</td>\n",
       "      <td>163</td>\n",
       "    </tr>\n",
       "    <tr>\n",
       "      <th>223</th>\n",
       "      <td>a</td>\n",
       "      <td>DET</td>\n",
       "      <td>149</td>\n",
       "    </tr>\n",
       "    <tr>\n",
       "      <th>596</th>\n",
       "      <td>in</td>\n",
       "      <td>ADP</td>\n",
       "      <td>144</td>\n",
       "    </tr>\n",
       "    <tr>\n",
       "      <th>4</th>\n",
       "      <td>'</td>\n",
       "      <td>PUNCT</td>\n",
       "      <td>138</td>\n",
       "    </tr>\n",
       "    <tr>\n",
       "      <th>827</th>\n",
       "      <td>say</td>\n",
       "      <td>VERB</td>\n",
       "      <td>119</td>\n",
       "    </tr>\n",
       "    <tr>\n",
       "      <th>1023</th>\n",
       "      <td>with</td>\n",
       "      <td>ADP</td>\n",
       "      <td>88</td>\n",
       "    </tr>\n",
       "    <tr>\n",
       "      <th>351</th>\n",
       "      <td>claims</td>\n",
       "      <td>VERB</td>\n",
       "      <td>87</td>\n",
       "    </tr>\n",
       "    <tr>\n",
       "      <th>708</th>\n",
       "      <td>not</td>\n",
       "      <td>PART</td>\n",
       "      <td>85</td>\n",
       "    </tr>\n",
       "  </tbody>\n",
       "</table>\n",
       "</div>"
      ],
      "text/plain": [
       "       token pos_tag  counts\n",
       "12         .   PUNCT     334\n",
       "10         ,   PUNCT     269\n",
       "28         A     DET     163\n",
       "223        a     DET     149\n",
       "596       in     ADP     144\n",
       "4          '   PUNCT     138\n",
       "827      say    VERB     119\n",
       "1023    with     ADP      88\n",
       "351   claims    VERB      87\n",
       "708      not    PART      85"
      ]
     },
     "execution_count": 17,
     "metadata": {},
     "output_type": "execute_result"
    }
   ],
   "source": [
    "pos_counts_fake = fake_tagsdf.groupby(['token','pos_tag']).size().reset_index(name=\"counts\").sort_values(by=\"counts\", ascending=False)\n",
    "pos_counts_fake.head(10)"
   ]
  },
  {
   "cell_type": "code",
   "execution_count": 18,
   "id": "5b31e5a7-ae2b-46c2-b854-68991e5ed283",
   "metadata": {},
   "outputs": [
    {
     "data": {
      "text/html": [
       "<div>\n",
       "<style scoped>\n",
       "    .dataframe tbody tr th:only-of-type {\n",
       "        vertical-align: middle;\n",
       "    }\n",
       "\n",
       "    .dataframe tbody tr th {\n",
       "        vertical-align: top;\n",
       "    }\n",
       "\n",
       "    .dataframe thead th {\n",
       "        text-align: right;\n",
       "    }\n",
       "</style>\n",
       "<table border=\"1\" class=\"dataframe\">\n",
       "  <thead>\n",
       "    <tr style=\"text-align: right;\">\n",
       "      <th></th>\n",
       "      <th>token</th>\n",
       "      <th>pos_tag</th>\n",
       "      <th>counts</th>\n",
       "    </tr>\n",
       "  </thead>\n",
       "  <tbody>\n",
       "    <tr>\n",
       "      <th>8</th>\n",
       "      <td>,</td>\n",
       "      <td>PUNCT</td>\n",
       "      <td>352</td>\n",
       "    </tr>\n",
       "    <tr>\n",
       "      <th>11</th>\n",
       "      <td>.</td>\n",
       "      <td>PUNCT</td>\n",
       "      <td>328</td>\n",
       "    </tr>\n",
       "    <tr>\n",
       "      <th>671</th>\n",
       "      <td>in</td>\n",
       "      <td>ADP</td>\n",
       "      <td>321</td>\n",
       "    </tr>\n",
       "    <tr>\n",
       "      <th>5</th>\n",
       "      <td>*</td>\n",
       "      <td>PROPN</td>\n",
       "      <td>150</td>\n",
       "    </tr>\n",
       "    <tr>\n",
       "      <th>41</th>\n",
       "      <td>A</td>\n",
       "      <td>DET</td>\n",
       "      <td>131</td>\n",
       "    </tr>\n",
       "    <tr>\n",
       "      <th>308</th>\n",
       "      <td>The</td>\n",
       "      <td>DET</td>\n",
       "      <td>125</td>\n",
       "    </tr>\n",
       "    <tr>\n",
       "      <th>0</th>\n",
       "      <td>%</td>\n",
       "      <td>NOUN</td>\n",
       "      <td>113</td>\n",
       "    </tr>\n",
       "    <tr>\n",
       "      <th>1098</th>\n",
       "      <td>was</td>\n",
       "      <td>AUX</td>\n",
       "      <td>109</td>\n",
       "    </tr>\n",
       "    <tr>\n",
       "      <th>19</th>\n",
       "      <td>2024</td>\n",
       "      <td>NUM</td>\n",
       "      <td>108</td>\n",
       "    </tr>\n",
       "    <tr>\n",
       "      <th>6</th>\n",
       "      <td>*</td>\n",
       "      <td>PUNCT</td>\n",
       "      <td>85</td>\n",
       "    </tr>\n",
       "  </tbody>\n",
       "</table>\n",
       "</div>"
      ],
      "text/plain": [
       "     token pos_tag  counts\n",
       "8        ,   PUNCT     352\n",
       "11       .   PUNCT     328\n",
       "671     in     ADP     321\n",
       "5        *   PROPN     150\n",
       "41       A     DET     131\n",
       "308    The     DET     125\n",
       "0        %    NOUN     113\n",
       "1098   was     AUX     109\n",
       "19    2024     NUM     108\n",
       "6        *   PUNCT      85"
      ]
     },
     "execution_count": 18,
     "metadata": {},
     "output_type": "execute_result"
    }
   ],
   "source": [
    "pos_counts_fact = fact_tagsdf.groupby(['token','pos_tag']).size().reset_index(name=\"counts\").sort_values(by=\"counts\", ascending=False)\n",
    "pos_counts_fact.head(10)"
   ]
  },
  {
   "cell_type": "code",
   "execution_count": 19,
   "id": "4a6c09bf-3af0-4c3f-96a7-23a0f6551223",
   "metadata": {},
   "outputs": [
    {
     "data": {
      "text/plain": [
       "pos_tag\n",
       "NOUN     496\n",
       "VERB     172\n",
       "PROPN    145\n",
       "ADJ      122\n",
       "ADP       21\n",
       "AUX       14\n",
       "NUM       14\n",
       "ADV       13\n",
       "DET       10\n",
       "PRON       9\n",
       "Name: token, dtype: int64"
      ]
     },
     "execution_count": 19,
     "metadata": {},
     "output_type": "execute_result"
    }
   ],
   "source": [
    "pos_counts_fake.groupby('pos_tag')['token'].count().sort_values(ascending=False).head(10)"
   ]
  },
  {
   "cell_type": "code",
   "execution_count": 20,
   "id": "fa9c92d8-9856-41c4-8dd5-5cc830247b0a",
   "metadata": {},
   "outputs": [
    {
     "data": {
      "text/plain": [
       "pos_tag\n",
       "NOUN     476\n",
       "PROPN    255\n",
       "VERB     177\n",
       "ADJ      114\n",
       "NUM       32\n",
       "ADP       25\n",
       "ADV       14\n",
       "AUX        8\n",
       "PRON       7\n",
       "DET        6\n",
       "Name: token, dtype: int64"
      ]
     },
     "execution_count": 20,
     "metadata": {},
     "output_type": "execute_result"
    }
   ],
   "source": [
    "pos_counts_fact.groupby('pos_tag')['token'].count().sort_values(ascending=False).head(10)"
   ]
  },
  {
   "cell_type": "code",
   "execution_count": 21,
   "id": "f4496630-8961-4dc5-9f20-bd1cd1d26350",
   "metadata": {},
   "outputs": [
    {
     "data": {
      "text/html": [
       "<div>\n",
       "<style scoped>\n",
       "    .dataframe tbody tr th:only-of-type {\n",
       "        vertical-align: middle;\n",
       "    }\n",
       "\n",
       "    .dataframe tbody tr th {\n",
       "        vertical-align: top;\n",
       "    }\n",
       "\n",
       "    .dataframe thead th {\n",
       "        text-align: right;\n",
       "    }\n",
       "</style>\n",
       "<table border=\"1\" class=\"dataframe\">\n",
       "  <thead>\n",
       "    <tr style=\"text-align: right;\">\n",
       "      <th></th>\n",
       "      <th>token</th>\n",
       "      <th>pos_tag</th>\n",
       "      <th>counts</th>\n",
       "    </tr>\n",
       "  </thead>\n",
       "  <tbody>\n",
       "    <tr>\n",
       "      <th>350</th>\n",
       "      <td>claims</td>\n",
       "      <td>NOUN</td>\n",
       "      <td>49</td>\n",
       "    </tr>\n",
       "    <tr>\n",
       "      <th>749</th>\n",
       "      <td>photos</td>\n",
       "      <td>NOUN</td>\n",
       "      <td>26</td>\n",
       "    </tr>\n",
       "    <tr>\n",
       "      <th>226</th>\n",
       "      <td>activity</td>\n",
       "      <td>NOUN</td>\n",
       "      <td>25</td>\n",
       "    </tr>\n",
       "    <tr>\n",
       "      <th>904</th>\n",
       "      <td>story</td>\n",
       "      <td>NOUN</td>\n",
       "      <td>24</td>\n",
       "    </tr>\n",
       "    <tr>\n",
       "      <th>1</th>\n",
       "      <td>%</td>\n",
       "      <td>NOUN</td>\n",
       "      <td>23</td>\n",
       "    </tr>\n",
       "    <tr>\n",
       "      <th>300</th>\n",
       "      <td>blog</td>\n",
       "      <td>NOUN</td>\n",
       "      <td>21</td>\n",
       "    </tr>\n",
       "    <tr>\n",
       "      <th>872</th>\n",
       "      <td>site</td>\n",
       "      <td>NOUN</td>\n",
       "      <td>19</td>\n",
       "    </tr>\n",
       "    <tr>\n",
       "      <th>529</th>\n",
       "      <td>ghosts</td>\n",
       "      <td>NOUN</td>\n",
       "      <td>18</td>\n",
       "    </tr>\n",
       "    <tr>\n",
       "      <th>935</th>\n",
       "      <td>tabloid</td>\n",
       "      <td>NOUN</td>\n",
       "      <td>18</td>\n",
       "    </tr>\n",
       "    <tr>\n",
       "      <th>469</th>\n",
       "      <td>experts</td>\n",
       "      <td>NOUN</td>\n",
       "      <td>18</td>\n",
       "    </tr>\n",
       "    <tr>\n",
       "      <th>215</th>\n",
       "      <td>Wildlife</td>\n",
       "      <td>NOUN</td>\n",
       "      <td>18</td>\n",
       "    </tr>\n",
       "    <tr>\n",
       "      <th>392</th>\n",
       "      <td>cryptid</td>\n",
       "      <td>NOUN</td>\n",
       "      <td>17</td>\n",
       "    </tr>\n",
       "    <tr>\n",
       "      <th>240</th>\n",
       "      <td>aliens</td>\n",
       "      <td>NOUN</td>\n",
       "      <td>17</td>\n",
       "    </tr>\n",
       "    <tr>\n",
       "      <th>507</th>\n",
       "      <td>footage</td>\n",
       "      <td>NOUN</td>\n",
       "      <td>16</td>\n",
       "    </tr>\n",
       "    <tr>\n",
       "      <th>912</th>\n",
       "      <td>study</td>\n",
       "      <td>NOUN</td>\n",
       "      <td>16</td>\n",
       "    </tr>\n",
       "  </tbody>\n",
       "</table>\n",
       "</div>"
      ],
      "text/plain": [
       "        token pos_tag  counts\n",
       "350    claims    NOUN      49\n",
       "749    photos    NOUN      26\n",
       "226  activity    NOUN      25\n",
       "904     story    NOUN      24\n",
       "1           %    NOUN      23\n",
       "300      blog    NOUN      21\n",
       "872      site    NOUN      19\n",
       "529    ghosts    NOUN      18\n",
       "935   tabloid    NOUN      18\n",
       "469   experts    NOUN      18\n",
       "215  Wildlife    NOUN      18\n",
       "392   cryptid    NOUN      17\n",
       "240    aliens    NOUN      17\n",
       "507   footage    NOUN      16\n",
       "912     study    NOUN      16"
      ]
     },
     "execution_count": 21,
     "metadata": {},
     "output_type": "execute_result"
    }
   ],
   "source": [
    "pos_counts_fake[pos_counts_fake.pos_tag == \"NOUN\"][:15]"
   ]
  },
  {
   "cell_type": "code",
   "execution_count": 22,
   "id": "96e9df21-453c-4c04-a567-04a557fe6514",
   "metadata": {},
   "outputs": [
    {
     "data": {
      "text/html": [
       "<div>\n",
       "<style scoped>\n",
       "    .dataframe tbody tr th:only-of-type {\n",
       "        vertical-align: middle;\n",
       "    }\n",
       "\n",
       "    .dataframe tbody tr th {\n",
       "        vertical-align: top;\n",
       "    }\n",
       "\n",
       "    .dataframe thead th {\n",
       "        text-align: right;\n",
       "    }\n",
       "</style>\n",
       "<table border=\"1\" class=\"dataframe\">\n",
       "  <thead>\n",
       "    <tr style=\"text-align: right;\">\n",
       "      <th></th>\n",
       "      <th>token</th>\n",
       "      <th>pos_tag</th>\n",
       "      <th>counts</th>\n",
       "    </tr>\n",
       "  </thead>\n",
       "  <tbody>\n",
       "    <tr>\n",
       "      <th>0</th>\n",
       "      <td>%</td>\n",
       "      <td>NOUN</td>\n",
       "      <td>113</td>\n",
       "    </tr>\n",
       "    <tr>\n",
       "      <th>1009</th>\n",
       "      <td>study</td>\n",
       "      <td>NOUN</td>\n",
       "      <td>48</td>\n",
       "    </tr>\n",
       "    <tr>\n",
       "      <th>471</th>\n",
       "      <td>company</td>\n",
       "      <td>NOUN</td>\n",
       "      <td>42</td>\n",
       "    </tr>\n",
       "    <tr>\n",
       "      <th>827</th>\n",
       "      <td>patients</td>\n",
       "      <td>NOUN</td>\n",
       "      <td>39</td>\n",
       "    </tr>\n",
       "    <tr>\n",
       "      <th>695</th>\n",
       "      <td>journal</td>\n",
       "      <td>NOUN</td>\n",
       "      <td>35</td>\n",
       "    </tr>\n",
       "    <tr>\n",
       "      <th>1032</th>\n",
       "      <td>tech</td>\n",
       "      <td>NOUN</td>\n",
       "      <td>34</td>\n",
       "    </tr>\n",
       "    <tr>\n",
       "      <th>539</th>\n",
       "      <td>drug</td>\n",
       "      <td>NOUN</td>\n",
       "      <td>34</td>\n",
       "    </tr>\n",
       "    <tr>\n",
       "      <th>4</th>\n",
       "      <td>*</td>\n",
       "      <td>NOUN</td>\n",
       "      <td>28</td>\n",
       "    </tr>\n",
       "    <tr>\n",
       "      <th>346</th>\n",
       "      <td>accuracy</td>\n",
       "      <td>NOUN</td>\n",
       "      <td>20</td>\n",
       "    </tr>\n",
       "    <tr>\n",
       "      <th>1042</th>\n",
       "      <td>therapy</td>\n",
       "      <td>NOUN</td>\n",
       "      <td>13</td>\n",
       "    </tr>\n",
       "    <tr>\n",
       "      <th>557</th>\n",
       "      <td>emissions</td>\n",
       "      <td>NOUN</td>\n",
       "      <td>11</td>\n",
       "    </tr>\n",
       "    <tr>\n",
       "      <th>1068</th>\n",
       "      <td>trials</td>\n",
       "      <td>NOUN</td>\n",
       "      <td>9</td>\n",
       "    </tr>\n",
       "    <tr>\n",
       "      <th>194</th>\n",
       "      <td>Lab</td>\n",
       "      <td>NOUN</td>\n",
       "      <td>9</td>\n",
       "    </tr>\n",
       "    <tr>\n",
       "      <th>842</th>\n",
       "      <td>plastic</td>\n",
       "      <td>NOUN</td>\n",
       "      <td>8</td>\n",
       "    </tr>\n",
       "    <tr>\n",
       "      <th>643</th>\n",
       "      <td>heart</td>\n",
       "      <td>NOUN</td>\n",
       "      <td>8</td>\n",
       "    </tr>\n",
       "  </tbody>\n",
       "</table>\n",
       "</div>"
      ],
      "text/plain": [
       "          token pos_tag  counts\n",
       "0             %    NOUN     113\n",
       "1009      study    NOUN      48\n",
       "471     company    NOUN      42\n",
       "827    patients    NOUN      39\n",
       "695     journal    NOUN      35\n",
       "1032       tech    NOUN      34\n",
       "539        drug    NOUN      34\n",
       "4             *    NOUN      28\n",
       "346    accuracy    NOUN      20\n",
       "1042    therapy    NOUN      13\n",
       "557   emissions    NOUN      11\n",
       "1068     trials    NOUN       9\n",
       "194         Lab    NOUN       9\n",
       "842     plastic    NOUN       8\n",
       "643       heart    NOUN       8"
      ]
     },
     "execution_count": 22,
     "metadata": {},
     "output_type": "execute_result"
    }
   ],
   "source": [
    "pos_counts_fact[pos_counts_fact.pos_tag == \"NOUN\"][:15]"
   ]
  },
  {
   "cell_type": "markdown",
   "id": "24727a12-f901-4d6b-a3ea-0ad88141c4cf",
   "metadata": {},
   "source": [
    "### Named Entities"
   ]
  },
  {
   "cell_type": "code",
   "execution_count": 23,
   "id": "7d3a1841-f7f8-4051-be41-f9a466ebf372",
   "metadata": {},
   "outputs": [],
   "source": [
    "top_entities_fake = fake_tagsdf[fake_tagsdf['ner_tag'] != \"\"].groupby(['token', 'ner_tag']).size().reset_index(name='counts').sort_values(by=\"counts\", ascending=False)"
   ]
  },
  {
   "cell_type": "code",
   "execution_count": 24,
   "id": "66088fb5-34c9-4ae3-8165-3827f10e1538",
   "metadata": {},
   "outputs": [],
   "source": [
    "top_entities_fact = fact_tagsdf[fact_tagsdf['ner_tag'] != \"\"].groupby(['token', 'ner_tag']).size().reset_index(name='counts').sort_values(by=\"counts\", ascending=False)"
   ]
  },
  {
   "cell_type": "code",
   "execution_count": 25,
   "id": "fb53a642-0467-4170-93e3-7154b8bd439a",
   "metadata": {},
   "outputs": [],
   "source": [
    "ner_palette = {\n",
    "    'ORG': sns.color_palette(\"Set2\").as_hex()[0],\n",
    "    'GPE': sns.color_palette(\"Set2\").as_hex()[1],\n",
    "    'NORP': sns.color_palette(\"Set2\").as_hex()[2],\n",
    "    'PERSON': sns.color_palette(\"Set2\").as_hex()[3],\n",
    "    'DATE': sns.color_palette(\"Set2\").as_hex()[4],\n",
    "    'CARDINAL': sns.color_palette(\"Set2\").as_hex()[5],\n",
    "    'PERCENT': sns.color_palette(\"Set2\").as_hex()[6],\n",
    "    'LAW': sns.color_palette(\"Set2\").as_hex()[7],\n",
    "}"
   ]
  },
  {
   "cell_type": "code",
   "execution_count": 26,
   "id": "8809e14b-ee5a-4fcc-8843-a6393842f5c9",
   "metadata": {},
   "outputs": [
    {
     "data": {
      "text/plain": [
       "[Text(0.5, 1.0, 'Most Common Named Entities in Fake News')]"
      ]
     },
     "execution_count": 26,
     "metadata": {},
     "output_type": "execute_result"
    },
    {
     "data": {
      "image/png": "[encoded data removed]",
      "text/plain": [
       "<Figure size 1200x800 with 1 Axes>"
      ]
     },
     "metadata": {},
     "output_type": "display_data"
    }
   ],
   "source": [
    "sns.barplot(\n",
    "    x = 'counts',\n",
    "    y = 'token',\n",
    "    hue = 'ner_tag',\n",
    "    palette = ner_palette,\n",
    "    data = top_entities_fake[:10],\n",
    "    orient = 'h',\n",
    "    dodge = False\n",
    ").set(title=\"Most Common Named Entities in Fake News\")"
   ]
  },
  {
   "cell_type": "code",
   "execution_count": 27,
   "id": "613c04dc-12eb-4bd8-b831-1e08e16b46e7",
   "metadata": {},
   "outputs": [
    {
     "data": {
      "text/plain": [
       "[Text(0.5, 1.0, 'Most Common Named Entities in Factual News')]"
      ]
     },
     "execution_count": 27,
     "metadata": {},
     "output_type": "execute_result"
    },
    {
     "data": {
      "image/png": "[encoded data removed]",
      "text/plain": [
       "<Figure size 1200x800 with 1 Axes>"
      ]
     },
     "metadata": {},
     "output_type": "display_data"
    }
   ],
   "source": [
    "sns.barplot(\n",
    "    x = 'counts',\n",
    "    y = 'token',\n",
    "    hue = 'ner_tag',\n",
    "    palette = ner_palette,\n",
    "    data = top_entities_fact[:10],\n",
    "    orient = 'h',\n",
    "    dodge = False\n",
    ").set(title=\"Most Common Named Entities in Factual News\")"
   ]
  },
  {
   "cell_type": "markdown",
   "id": "66a98fa8-465b-4a3a-a79e-a69a3f75d828",
   "metadata": {},
   "source": [
    "### Text Pre-Processing"
   ]
  },
  {
   "cell_type": "code",
   "execution_count": 28,
   "id": "c4e2ce79-48e7-4855-b9d6-f1d506dabf65",
   "metadata": {},
   "outputs": [
    {
     "data": {
      "text/html": [
       "<div>\n",
       "<style scoped>\n",
       "    .dataframe tbody tr th:only-of-type {\n",
       "        vertical-align: middle;\n",
       "    }\n",
       "\n",
       "    .dataframe tbody tr th {\n",
       "        vertical-align: top;\n",
       "    }\n",
       "\n",
       "    .dataframe thead th {\n",
       "        text-align: right;\n",
       "    }\n",
       "</style>\n",
       "<table border=\"1\" class=\"dataframe\">\n",
       "  <thead>\n",
       "    <tr style=\"text-align: right;\">\n",
       "      <th></th>\n",
       "      <th>title</th>\n",
       "      <th>text</th>\n",
       "      <th>date</th>\n",
       "      <th>fake_or_factual</th>\n",
       "    </tr>\n",
       "  </thead>\n",
       "  <tbody>\n",
       "    <tr>\n",
       "      <th>0</th>\n",
       "      <td>New Study Claims Chocolate Cures Cancer</td>\n",
       "      <td>A groundbreaking study from an obscure lab cla...</td>\n",
       "      <td>15-Jan-24</td>\n",
       "      <td>Fake News</td>\n",
       "    </tr>\n",
       "    <tr>\n",
       "      <th>1</th>\n",
       "      <td>Scientists Discover New Species of Fish in Pac...</td>\n",
       "      <td>Marine biologists from NOAA announced the disc...</td>\n",
       "      <td>10-Feb-24</td>\n",
       "      <td>Factual News</td>\n",
       "    </tr>\n",
       "    <tr>\n",
       "      <th>2</th>\n",
       "      <td>Alien Fossils Found in Antarctica</td>\n",
       "      <td>A viral blog post claims researchers uncovered...</td>\n",
       "      <td>25-Mar-24</td>\n",
       "      <td>Fake News</td>\n",
       "    </tr>\n",
       "    <tr>\n",
       "      <th>3</th>\n",
       "      <td>New Solar Panel Design Boosts Efficiency by 30%</td>\n",
       "      <td>Engineers at MIT developed a solar panel with ...</td>\n",
       "      <td>5-Apr-24</td>\n",
       "      <td>Factual News</td>\n",
       "    </tr>\n",
       "    <tr>\n",
       "      <th>4</th>\n",
       "      <td>Tom Hanks Secretly Runs a Time Travel Agency</td>\n",
       "      <td>A conspiracy website claims Tom Hanks operates...</td>\n",
       "      <td>12-May-24</td>\n",
       "      <td>Fake News</td>\n",
       "    </tr>\n",
       "  </tbody>\n",
       "</table>\n",
       "</div>"
      ],
      "text/plain": [
       "                                               title  \\\n",
       "0            New Study Claims Chocolate Cures Cancer   \n",
       "1  Scientists Discover New Species of Fish in Pac...   \n",
       "2                  Alien Fossils Found in Antarctica   \n",
       "3    New Solar Panel Design Boosts Efficiency by 30%   \n",
       "4       Tom Hanks Secretly Runs a Time Travel Agency   \n",
       "\n",
       "                                                text       date  \\\n",
       "0  A groundbreaking study from an obscure lab cla...  15-Jan-24   \n",
       "1  Marine biologists from NOAA announced the disc...  10-Feb-24   \n",
       "2  A viral blog post claims researchers uncovered...  25-Mar-24   \n",
       "3  Engineers at MIT developed a solar panel with ...   5-Apr-24   \n",
       "4  A conspiracy website claims Tom Hanks operates...  12-May-24   \n",
       "\n",
       "  fake_or_factual  \n",
       "0       Fake News  \n",
       "1    Factual News  \n",
       "2       Fake News  \n",
       "3    Factual News  \n",
       "4       Fake News  "
      ]
     },
     "execution_count": 28,
     "metadata": {},
     "output_type": "execute_result"
    }
   ],
   "source": [
    "data.head()"
   ]
  },
  {
   "cell_type": "code",
   "execution_count": 29,
   "id": "70ce1a6f-25a0-4285-873a-135e5dd3eca2",
   "metadata": {},
   "outputs": [],
   "source": [
    "data['text_clean'] = data.apply(lambda x: re.sub(r\"^[^-]*-\\s\", \"\", x[\"text\"]), axis=1)"
   ]
  },
  {
   "cell_type": "code",
   "execution_count": 30,
   "id": "34273a9b-6785-4026-8767-1dc22dd0148e",
   "metadata": {},
   "outputs": [],
   "source": [
    "data['text_clean'] = data['text_clean'].str.lower()"
   ]
  },
  {
   "cell_type": "code",
   "execution_count": 31,
   "id": "45c0bd6f-e8dc-46a9-97ca-38fb82a62c51",
   "metadata": {},
   "outputs": [],
   "source": [
    "data['text_clean'] = data.apply(lambda x: re.sub(r\"([^\\w\\s])\", \"\", x[\"text_clean\"]), axis=1)"
   ]
  },
  {
   "cell_type": "code",
   "execution_count": 32,
   "id": "20cc9333-abc5-47f3-877d-9852c6137a00",
   "metadata": {},
   "outputs": [
    {
     "name": "stdout",
     "output_type": "stream",
     "text": [
      "['a', 'about', 'above', 'after', 'again', 'against', 'ain', 'all', 'am', 'an', 'and', 'any', 'are', 'aren', \"aren't\", 'as', 'at', 'be', 'because', 'been', 'before', 'being', 'below', 'between', 'both', 'but', 'by', 'can', 'couldn', \"couldn't\", 'd', 'did', 'didn', \"didn't\", 'do', 'does', 'doesn', \"doesn't\", 'doing', 'don', \"don't\", 'down', 'during', 'each', 'few', 'for', 'from', 'further', 'had', 'hadn', \"hadn't\", 'has', 'hasn', \"hasn't\", 'have', 'haven', \"haven't\", 'having', 'he', \"he'd\", \"he'll\", 'her', 'here', 'hers', 'herself', \"he's\", 'him', 'himself', 'his', 'how', 'i', \"i'd\", 'if', \"i'll\", \"i'm\", 'in', 'into', 'is', 'isn', \"isn't\", 'it', \"it'd\", \"it'll\", \"it's\", 'its', 'itself', \"i've\", 'just', 'll', 'm', 'ma', 'me', 'mightn', \"mightn't\", 'more', 'most', 'mustn', \"mustn't\", 'my', 'myself', 'needn', \"needn't\", 'no', 'nor', 'not', 'now', 'o', 'of', 'off', 'on', 'once', 'only', 'or', 'other', 'our', 'ours', 'ourselves', 'out', 'over', 'own', 're', 's', 'same', 'shan', \"shan't\", 'she', \"she'd\", \"she'll\", \"she's\", 'should', 'shouldn', \"shouldn't\", \"should've\", 'so', 'some', 'such', 't', 'than', 'that', \"that'll\", 'the', 'their', 'theirs', 'them', 'themselves', 'then', 'there', 'these', 'they', \"they'd\", \"they'll\", \"they're\", \"they've\", 'this', 'those', 'through', 'to', 'too', 'under', 'until', 'up', 've', 'very', 'was', 'wasn', \"wasn't\", 'we', \"we'd\", \"we'll\", \"we're\", 'were', 'weren', \"weren't\", \"we've\", 'what', 'when', 'where', 'which', 'while', 'who', 'whom', 'why', 'will', 'with', 'won', \"won't\", 'wouldn', \"wouldn't\", 'y', 'you', \"you'd\", \"you'll\", 'your', \"you're\", 'yours', 'yourself', 'yourselves', \"you've\"]\n"
     ]
    },
    {
     "name": "stderr",
     "output_type": "stream",
     "text": [
      "[nltk_data] Downloading package stopwords to\n",
      "[nltk_data]     C:\\Users\\Admin\\AppData\\Roaming\\nltk_data...\n",
      "[nltk_data]   Package stopwords is already up-to-date!\n"
     ]
    }
   ],
   "source": [
    "nltk.download('stopwords')\n",
    "en_stopwords = stopwords.words('english')\n",
    "print(en_stopwords)"
   ]
  },
  {
   "cell_type": "code",
   "execution_count": 33,
   "id": "e6285bf9-719f-4648-81a4-b5fa1b61c790",
   "metadata": {},
   "outputs": [],
   "source": [
    "data['text_clean'] = data['text_clean'].apply(lambda x: ' '.join([word for word in x.split() if word not in (en_stopwords)]))"
   ]
  },
  {
   "cell_type": "code",
   "execution_count": 34,
   "id": "b0acba31-8777-491e-a201-991b85eb5c21",
   "metadata": {},
   "outputs": [
    {
     "name": "stderr",
     "output_type": "stream",
     "text": [
      "[nltk_data] Downloading package punkt to\n",
      "[nltk_data]     C:\\Users\\Admin\\AppData\\Roaming\\nltk_data...\n",
      "[nltk_data]   Package punkt is already up-to-date!\n"
     ]
    }
   ],
   "source": [
    "nltk.download('punkt')\n",
    "data['text_clean'] = data.apply(lambda x: word_tokenize(x['text_clean']), axis=1)"
   ]
  },
  {
   "cell_type": "code",
   "execution_count": 35,
   "id": "69b8e189-3156-4569-8efe-3ca727ddb0c1",
   "metadata": {},
   "outputs": [],
   "source": [
    "lemmatizer = WordNetLemmatizer()\n",
    "data['text_clean'] = data['text_clean'].apply(lambda tokens: [lemmatizer.lemmatize(token) for token in tokens])"
   ]
  },
  {
   "cell_type": "code",
   "execution_count": 36,
   "id": "13933381-d02e-483c-a495-ee49c89dbf02",
   "metadata": {},
   "outputs": [],
   "source": [
    "tokens_clean = sum(data['text_clean'], [])"
   ]
  },
  {
   "cell_type": "code",
   "execution_count": 37,
   "id": "5c42685c-e92e-4681-b06d-72e971026484",
   "metadata": {},
   "outputs": [
    {
     "name": "stdout",
     "output_type": "stream",
     "text": [
      "          index  count\n",
      "0      (claim,)    160\n",
      "1        (say,)    147\n",
      "2       (2024,)    133\n",
      "3    (journal,)    110\n",
      "4  (published,)     72\n",
      "5          (u,)     68\n",
      "6      (study,)     65\n",
      "7   (approved,)     57\n",
      "8    (company,)     52\n",
      "9   (featured,)     51\n"
     ]
    }
   ],
   "source": [
    "unigrams = (pd.Series(nltk.ngrams(tokens_clean, 1)).value_counts()).reset_index()[:10]\n",
    "print(unigrams[:10])"
   ]
  },
  {
   "cell_type": "code",
   "execution_count": 38,
   "id": "7f13c028-eb10-473f-b59c-b0e61d314cf5",
   "metadata": {},
   "outputs": [
    {
     "name": "stderr",
     "output_type": "stream",
     "text": [
      "C:\\Users\\Admin\\AppData\\Local\\Temp\\ipykernel_8900\\838644735.py:3: UserWarning: \n",
      "The palette list has fewer values (1) than needed (10) and will cycle, which may produce an uninterpretable plot.\n",
      "  sns.barplot(x=\"count\",\n"
     ]
    },
    {
     "data": {
      "text/plain": [
       "[Text(0.5, 1.0, 'Most Common Unigrams After Preprocessing')]"
      ]
     },
     "execution_count": 38,
     "metadata": {},
     "output_type": "execute_result"
    },
    {
     "data": {
      "image/png": "[encoded data removed]",
      "text/plain": [
       "<Figure size 1200x800 with 1 Axes>"
      ]
     },
     "metadata": {},
     "output_type": "display_data"
    }
   ],
   "source": [
    "unigrams['token'] = unigrams['index'].apply(lambda x: x[0])\n",
    "\n",
    "sns.barplot(x=\"count\",\n",
    "            y=\"token\",\n",
    "            data=unigrams,\n",
    "            orient=\"h\",\n",
    "            palette=[default_plot_color],\n",
    "            hue=\"token\", legend=False)\\\n",
    ".set(title=\"Most Common Unigrams After Preprocessing\")"
   ]
  },
  {
   "cell_type": "code",
   "execution_count": 39,
   "id": "853ab04f-d877-4a47-b7e4-ad410406ae1f",
   "metadata": {},
   "outputs": [
    {
     "name": "stdout",
     "output_type": "stream",
     "text": [
      "                    index  count\n",
      "0        (approved, 2024)     56\n",
      "1      (study, published)     54\n",
      "2        (launched, 2024)     49\n",
      "3        (tabloid, claim)     43\n",
      "4          (claim, alien)     37\n",
      "5        (drug, approved)     33\n",
      "6            (u, company)     32\n",
      "7  (paranormal, activity)     31\n",
      "8        (patient, study)     29\n",
      "9        (tech, featured)     28\n"
     ]
    }
   ],
   "source": [
    "bigrams = (pd.Series(nltk.ngrams(tokens_clean, 2)).value_counts()).reset_index()[:10]\n",
    "print(bigrams[:10])"
   ]
  },
  {
   "cell_type": "markdown",
   "id": "aa792571-50d9-4d9f-9f4c-20637de32b4d",
   "metadata": {},
   "source": [
    "## Sentiment Analysis"
   ]
  },
  {
   "cell_type": "code",
   "execution_count": 40,
   "id": "1f2760cb-0815-44ea-b18f-23886decafd0",
   "metadata": {},
   "outputs": [],
   "source": [
    "vader_sentiment = SentimentIntensityAnalyzer()"
   ]
  },
  {
   "cell_type": "code",
   "execution_count": 41,
   "id": "b5fe0edf-20db-4e8b-bf18-562dbcda9751",
   "metadata": {},
   "outputs": [],
   "source": [
    "data['vader_sentiment_score'] = data['text'].apply(lambda x: vader_sentiment.polarity_scores(x)['compound'])"
   ]
  },
  {
   "cell_type": "code",
   "execution_count": 42,
   "id": "ddb36db4-182a-4f99-a092-990c2dff90bf",
   "metadata": {},
   "outputs": [
    {
     "data": {
      "text/html": [
       "<div>\n",
       "<style scoped>\n",
       "    .dataframe tbody tr th:only-of-type {\n",
       "        vertical-align: middle;\n",
       "    }\n",
       "\n",
       "    .dataframe tbody tr th {\n",
       "        vertical-align: top;\n",
       "    }\n",
       "\n",
       "    .dataframe thead th {\n",
       "        text-align: right;\n",
       "    }\n",
       "</style>\n",
       "<table border=\"1\" class=\"dataframe\">\n",
       "  <thead>\n",
       "    <tr style=\"text-align: right;\">\n",
       "      <th></th>\n",
       "      <th>title</th>\n",
       "      <th>text</th>\n",
       "      <th>date</th>\n",
       "      <th>fake_or_factual</th>\n",
       "      <th>text_clean</th>\n",
       "      <th>vader_sentiment_score</th>\n",
       "    </tr>\n",
       "  </thead>\n",
       "  <tbody>\n",
       "    <tr>\n",
       "      <th>0</th>\n",
       "      <td>New Study Claims Chocolate Cures Cancer</td>\n",
       "      <td>A groundbreaking study from an obscure lab cla...</td>\n",
       "      <td>15-Jan-24</td>\n",
       "      <td>Fake News</td>\n",
       "      <td>[groundbreaking, study, obscure, lab, claim, e...</td>\n",
       "      <td>-0.4019</td>\n",
       "    </tr>\n",
       "    <tr>\n",
       "      <th>1</th>\n",
       "      <td>Scientists Discover New Species of Fish in Pac...</td>\n",
       "      <td>Marine biologists from NOAA announced the disc...</td>\n",
       "      <td>10-Feb-24</td>\n",
       "      <td>Factual News</td>\n",
       "      <td>[marine, biologist, noaa, announced, discovery...</td>\n",
       "      <td>0.0000</td>\n",
       "    </tr>\n",
       "    <tr>\n",
       "      <th>2</th>\n",
       "      <td>Alien Fossils Found in Antarctica</td>\n",
       "      <td>A viral blog post claims researchers uncovered...</td>\n",
       "      <td>25-Mar-24</td>\n",
       "      <td>Fake News</td>\n",
       "      <td>[viral, blog, post, claim, researcher, uncover...</td>\n",
       "      <td>-0.3818</td>\n",
       "    </tr>\n",
       "    <tr>\n",
       "      <th>3</th>\n",
       "      <td>New Solar Panel Design Boosts Efficiency by 30%</td>\n",
       "      <td>Engineers at MIT developed a solar panel with ...</td>\n",
       "      <td>5-Apr-24</td>\n",
       "      <td>Factual News</td>\n",
       "      <td>[engineer, mit, developed, solar, panel, novel...</td>\n",
       "      <td>0.8442</td>\n",
       "    </tr>\n",
       "    <tr>\n",
       "      <th>4</th>\n",
       "      <td>Tom Hanks Secretly Runs a Time Travel Agency</td>\n",
       "      <td>A conspiracy website claims Tom Hanks operates...</td>\n",
       "      <td>12-May-24</td>\n",
       "      <td>Fake News</td>\n",
       "      <td>[conspiracy, website, claim, tom, hank, operat...</td>\n",
       "      <td>-0.7184</td>\n",
       "    </tr>\n",
       "  </tbody>\n",
       "</table>\n",
       "</div>"
      ],
      "text/plain": [
       "                                               title  \\\n",
       "0            New Study Claims Chocolate Cures Cancer   \n",
       "1  Scientists Discover New Species of Fish in Pac...   \n",
       "2                  Alien Fossils Found in Antarctica   \n",
       "3    New Solar Panel Design Boosts Efficiency by 30%   \n",
       "4       Tom Hanks Secretly Runs a Time Travel Agency   \n",
       "\n",
       "                                                text       date  \\\n",
       "0  A groundbreaking study from an obscure lab cla...  15-Jan-24   \n",
       "1  Marine biologists from NOAA announced the disc...  10-Feb-24   \n",
       "2  A viral blog post claims researchers uncovered...  25-Mar-24   \n",
       "3  Engineers at MIT developed a solar panel with ...   5-Apr-24   \n",
       "4  A conspiracy website claims Tom Hanks operates...  12-May-24   \n",
       "\n",
       "  fake_or_factual                                         text_clean  \\\n",
       "0       Fake News  [groundbreaking, study, obscure, lab, claim, e...   \n",
       "1    Factual News  [marine, biologist, noaa, announced, discovery...   \n",
       "2       Fake News  [viral, blog, post, claim, researcher, uncover...   \n",
       "3    Factual News  [engineer, mit, developed, solar, panel, novel...   \n",
       "4       Fake News  [conspiracy, website, claim, tom, hank, operat...   \n",
       "\n",
       "   vader_sentiment_score  \n",
       "0                -0.4019  \n",
       "1                 0.0000  \n",
       "2                -0.3818  \n",
       "3                 0.8442  \n",
       "4                -0.7184  "
      ]
     },
     "execution_count": 42,
     "metadata": {},
     "output_type": "execute_result"
    }
   ],
   "source": [
    "data.head()"
   ]
  },
  {
   "cell_type": "code",
   "execution_count": 43,
   "id": "318f483f-7743-4dda-80e4-a4f44fe646d6",
   "metadata": {},
   "outputs": [],
   "source": [
    "bins = [-1, -0.1, 0.1, 1]\n",
    "names = ['negative', 'neutral', 'positive']"
   ]
  },
  {
   "cell_type": "code",
   "execution_count": 44,
   "id": "f2345faf-9f99-4b77-960e-b2c94f7de0df",
   "metadata": {},
   "outputs": [],
   "source": [
    "data['vader_sentiment_label'] = pd.cut(data['vader_sentiment_score'], bins, labels=names)"
   ]
  },
  {
   "cell_type": "code",
   "execution_count": 45,
   "id": "c68d4d9f-f705-432d-a5b0-97c1b17fead9",
   "metadata": {},
   "outputs": [
    {
     "data": {
      "text/html": [
       "<div>\n",
       "<style scoped>\n",
       "    .dataframe tbody tr th:only-of-type {\n",
       "        vertical-align: middle;\n",
       "    }\n",
       "\n",
       "    .dataframe tbody tr th {\n",
       "        vertical-align: top;\n",
       "    }\n",
       "\n",
       "    .dataframe thead th {\n",
       "        text-align: right;\n",
       "    }\n",
       "</style>\n",
       "<table border=\"1\" class=\"dataframe\">\n",
       "  <thead>\n",
       "    <tr style=\"text-align: right;\">\n",
       "      <th></th>\n",
       "      <th>title</th>\n",
       "      <th>text</th>\n",
       "      <th>date</th>\n",
       "      <th>fake_or_factual</th>\n",
       "      <th>text_clean</th>\n",
       "      <th>vader_sentiment_score</th>\n",
       "      <th>vader_sentiment_label</th>\n",
       "    </tr>\n",
       "  </thead>\n",
       "  <tbody>\n",
       "    <tr>\n",
       "      <th>0</th>\n",
       "      <td>New Study Claims Chocolate Cures Cancer</td>\n",
       "      <td>A groundbreaking study from an obscure lab cla...</td>\n",
       "      <td>15-Jan-24</td>\n",
       "      <td>Fake News</td>\n",
       "      <td>[groundbreaking, study, obscure, lab, claim, e...</td>\n",
       "      <td>-0.4019</td>\n",
       "      <td>negative</td>\n",
       "    </tr>\n",
       "    <tr>\n",
       "      <th>1</th>\n",
       "      <td>Scientists Discover New Species of Fish in Pac...</td>\n",
       "      <td>Marine biologists from NOAA announced the disc...</td>\n",
       "      <td>10-Feb-24</td>\n",
       "      <td>Factual News</td>\n",
       "      <td>[marine, biologist, noaa, announced, discovery...</td>\n",
       "      <td>0.0000</td>\n",
       "      <td>neutral</td>\n",
       "    </tr>\n",
       "    <tr>\n",
       "      <th>2</th>\n",
       "      <td>Alien Fossils Found in Antarctica</td>\n",
       "      <td>A viral blog post claims researchers uncovered...</td>\n",
       "      <td>25-Mar-24</td>\n",
       "      <td>Fake News</td>\n",
       "      <td>[viral, blog, post, claim, researcher, uncover...</td>\n",
       "      <td>-0.3818</td>\n",
       "      <td>negative</td>\n",
       "    </tr>\n",
       "    <tr>\n",
       "      <th>3</th>\n",
       "      <td>New Solar Panel Design Boosts Efficiency by 30%</td>\n",
       "      <td>Engineers at MIT developed a solar panel with ...</td>\n",
       "      <td>5-Apr-24</td>\n",
       "      <td>Factual News</td>\n",
       "      <td>[engineer, mit, developed, solar, panel, novel...</td>\n",
       "      <td>0.8442</td>\n",
       "      <td>positive</td>\n",
       "    </tr>\n",
       "    <tr>\n",
       "      <th>4</th>\n",
       "      <td>Tom Hanks Secretly Runs a Time Travel Agency</td>\n",
       "      <td>A conspiracy website claims Tom Hanks operates...</td>\n",
       "      <td>12-May-24</td>\n",
       "      <td>Fake News</td>\n",
       "      <td>[conspiracy, website, claim, tom, hank, operat...</td>\n",
       "      <td>-0.7184</td>\n",
       "      <td>negative</td>\n",
       "    </tr>\n",
       "  </tbody>\n",
       "</table>\n",
       "</div>"
      ],
      "text/plain": [
       "                                               title  \\\n",
       "0            New Study Claims Chocolate Cures Cancer   \n",
       "1  Scientists Discover New Species of Fish in Pac...   \n",
       "2                  Alien Fossils Found in Antarctica   \n",
       "3    New Solar Panel Design Boosts Efficiency by 30%   \n",
       "4       Tom Hanks Secretly Runs a Time Travel Agency   \n",
       "\n",
       "                                                text       date  \\\n",
       "0  A groundbreaking study from an obscure lab cla...  15-Jan-24   \n",
       "1  Marine biologists from NOAA announced the disc...  10-Feb-24   \n",
       "2  A viral blog post claims researchers uncovered...  25-Mar-24   \n",
       "3  Engineers at MIT developed a solar panel with ...   5-Apr-24   \n",
       "4  A conspiracy website claims Tom Hanks operates...  12-May-24   \n",
       "\n",
       "  fake_or_factual                                         text_clean  \\\n",
       "0       Fake News  [groundbreaking, study, obscure, lab, claim, e...   \n",
       "1    Factual News  [marine, biologist, noaa, announced, discovery...   \n",
       "2       Fake News  [viral, blog, post, claim, researcher, uncover...   \n",
       "3    Factual News  [engineer, mit, developed, solar, panel, novel...   \n",
       "4       Fake News  [conspiracy, website, claim, tom, hank, operat...   \n",
       "\n",
       "   vader_sentiment_score vader_sentiment_label  \n",
       "0                -0.4019              negative  \n",
       "1                 0.0000               neutral  \n",
       "2                -0.3818              negative  \n",
       "3                 0.8442              positive  \n",
       "4                -0.7184              negative  "
      ]
     },
     "execution_count": 45,
     "metadata": {},
     "output_type": "execute_result"
    }
   ],
   "source": [
    "data.head()"
   ]
  },
  {
   "cell_type": "code",
   "execution_count": 46,
   "id": "570401f7-b532-42f2-8e97-cbfeae925a21",
   "metadata": {},
   "outputs": [
    {
     "data": {
      "text/plain": [
       "<Axes: xlabel='vader_sentiment_label'>"
      ]
     },
     "execution_count": 46,
     "metadata": {},
     "output_type": "execute_result"
    },
    {
     "data": {
      "image/png": "[encoded data removed]",
      "text/plain": [
       "<Figure size 1200x800 with 1 Axes>"
      ]
     },
     "metadata": {},
     "output_type": "display_data"
    }
   ],
   "source": [
    "data['vader_sentiment_label'].value_counts().plot.bar(color=default_plot_color)"
   ]
  },
  {
   "cell_type": "code",
   "execution_count": 47,
   "id": "a4c642f6-b7c2-4b96-aa76-1973fadddbda",
   "metadata": {},
   "outputs": [
    {
     "name": "stderr",
     "output_type": "stream",
     "text": [
      "C:\\Users\\Admin\\AppData\\Local\\Temp\\ipykernel_8900\\6889798.py:1: UserWarning: The palette list has more values (6) than needed (3), which may not be intended.\n",
      "  sns.countplot(\n"
     ]
    },
    {
     "data": {
      "text/plain": [
       "[Text(0.5, 1.0, 'Sentiment by News Type')]"
      ]
     },
     "execution_count": 47,
     "metadata": {},
     "output_type": "execute_result"
    },
    {
     "data": {
      "image/png": "[encoded data removed]",
      "text/plain": [
       "<Figure size 1200x800 with 1 Axes>"
      ]
     },
     "metadata": {},
     "output_type": "display_data"
    }
   ],
   "source": [
    "sns.countplot(\n",
    "    x = 'fake_or_factual',\n",
    "    hue = 'vader_sentiment_label',\n",
    "    palette = sns.color_palette(\"hls\"),\n",
    "    data = data\n",
    ").set(title = \"Sentiment by News Type\")"
   ]
  },
  {
   "cell_type": "markdown",
   "id": "a8c2d16e-2e77-4b70-9641-8b5657ac58fb",
   "metadata": {},
   "source": [
    "## LDA"
   ]
  },
  {
   "cell_type": "code",
   "execution_count": 48,
   "id": "6fe67697-c9a2-43b3-a99a-3d6aa46d0d28",
   "metadata": {},
   "outputs": [],
   "source": [
    "# fake news data vectorization\n",
    "fake_news_text = data[data['fake_or_factual'] == \"Fake News\"]['text_clean'].reset_index(drop=True)\n",
    "dictionary_fake = corpora.Dictionary(fake_news_text)\n",
    "doc_term_fake = [dictionary_fake.doc2bow(text) for text in fake_news_text]"
   ]
  },
  {
   "cell_type": "code",
   "execution_count": 49,
   "id": "1ed5da0e-64a3-44ba-837e-1960d927d874",
   "metadata": {},
   "outputs": [
    {
     "data": {
      "image/png": "[encoded data removed]",
      "text/plain": [
       "<Figure size 1200x800 with 1 Axes>"
      ]
     },
     "metadata": {},
     "output_type": "display_data"
    }
   ],
   "source": [
    "# generate coherence scores to determine an optimum number of topics\n",
    "coherence_values = []\n",
    "model_list = []\n",
    "\n",
    "min_topics = 2\n",
    "max_topics = 11\n",
    "\n",
    "for num_topics_i in range(min_topics, max_topics+1):\n",
    "    model = gensim.models.LdaModel(doc_term_fake, num_topics=num_topics_i, id2word = dictionary_fake)\n",
    "    model_list.append(model)\n",
    "    coherence_model = CoherenceModel(model=model, texts=fake_news_text, dictionary=dictionary_fake, coherence='c_v')\n",
    "    coherence_values.append(coherence_model.get_coherence())\n",
    "    \n",
    "plt.plot(range(min_topics, max_topics+1), coherence_values)\n",
    "plt.xlabel(\"Number of Topics\")\n",
    "plt.ylabel(\"Coherence score\")\n",
    "plt.legend((\"coherence_values\"), loc='best')\n",
    "plt.show()"
   ]
  },
  {
   "cell_type": "code",
   "execution_count": 50,
   "id": "c9525ead-88bb-4536-b9a9-20d6dcb429f6",
   "metadata": {},
   "outputs": [
    {
     "data": {
      "text/plain": [
       "[(0,\n",
       "  '0.045*\"claim\" + 0.038*\"say\" + 0.016*\"tabloid\" + 0.016*\"alien\" + 0.012*\"loch\" + 0.012*\"monster\" + 0.011*\"leaked\" + 0.011*\"citing\" + 0.011*\"ness\" + 0.010*\"blog\"'),\n",
       " (1,\n",
       "  '0.048*\"say\" + 0.048*\"claim\" + 0.020*\"tabloid\" + 0.020*\"paranormal\" + 0.016*\"ghost\" + 0.016*\"activity\" + 0.015*\"alien\" + 0.013*\"due\" + 0.013*\"new\" + 0.013*\"citing\"'),\n",
       " (2,\n",
       "  '0.042*\"claim\" + 0.033*\"say\" + 0.019*\"viral\" + 0.017*\"footage\" + 0.012*\"wildlife\" + 0.011*\"alien\" + 0.011*\"study\" + 0.010*\"citing\" + 0.010*\"built\" + 0.010*\"video\"'),\n",
       " (3,\n",
       "  '0.036*\"claim\" + 0.034*\"say\" + 0.012*\"2024\" + 0.012*\"journal\" + 0.011*\"paranormal\" + 0.011*\"tabloid\" + 0.010*\"featured\" + 0.010*\"launched\" + 0.010*\"activity\" + 0.010*\"alien\"'),\n",
       " (4,\n",
       "  '0.028*\"claim\" + 0.027*\"photo\" + 0.026*\"say\" + 0.016*\"post\" + 0.015*\"cryptid\" + 0.015*\"viral\" + 0.015*\"yeti\" + 0.015*\"official\" + 0.015*\"wildlife\" + 0.015*\"grainy\"'),\n",
       " (5,\n",
       "  '0.016*\"published\" + 0.016*\"2024\" + 0.016*\"study\" + 0.015*\"approved\" + 0.015*\"patient\" + 0.014*\"therapy\" + 0.013*\"claim\" + 0.012*\"say\" + 0.012*\"journal\" + 0.009*\"80\"')]"
      ]
     },
     "execution_count": 50,
     "metadata": {},
     "output_type": "execute_result"
    }
   ],
   "source": [
    "# create lda model\n",
    "num_topics_fake = 6 \n",
    "\n",
    "lda_model_fake = gensim.models.LdaModel(corpus=doc_term_fake,\n",
    "                                       id2word=dictionary_fake,\n",
    "                                       num_topics=num_topics_fake)\n",
    "\n",
    "lda_model_fake.print_topics(num_topics=num_topics_fake, num_words=10)"
   ]
  },
  {
   "cell_type": "markdown",
   "id": "2a0b0029-4d71-49c9-ab0a-926bd021cfaa",
   "metadata": {},
   "source": [
    "## TF-IDF & LSA"
   ]
  },
  {
   "cell_type": "code",
   "execution_count": 51,
   "id": "4a70db35-2232-4eaa-b484-a6be3cd481e3",
   "metadata": {},
   "outputs": [],
   "source": [
    "def tfidf_corpus(doc_term_matrix):\n",
    "    # create a corpus using tfidf vecotization\n",
    "    tfidf = TfidfModel(corpus=doc_term_matrix, normalize=True)\n",
    "    corpus_tfidf = tfidf[doc_term_matrix]\n",
    "    return corpus_tfidf"
   ]
  },
  {
   "cell_type": "code",
   "execution_count": 52,
   "id": "00053a16-a8b0-4b46-b010-8ca1caf50ffd",
   "metadata": {},
   "outputs": [],
   "source": [
    "def get_coherence_scores(corpus, dictionary, text, min_topics, max_topics):\n",
    "    # generate coherence scores to determine an optimum number of topics\n",
    "    coherence_values = []\n",
    "    model_list = []\n",
    "    for num_topics_i in range(min_topics, max_topics+1):\n",
    "        model = LsiModel(corpus, num_topics=num_topics_i, id2word = dictionary, random_seed=0)\n",
    "        model_list.append(model)\n",
    "        coherence_model = CoherenceModel(model=model, texts=text, dictionary=dictionary, coherence='c_v')\n",
    "        coherence_values.append(coherence_model.get_coherence())\n",
    "    # plot results\n",
    "    plt.plot(range(min_topics, max_topics+1), coherence_values)\n",
    "    plt.xlabel(\"Number of Topics\")\n",
    "    plt.ylabel(\"Coherence score\")\n",
    "    plt.legend((\"coherence_values\"), loc='best')\n",
    "    plt.show()"
   ]
  },
  {
   "cell_type": "code",
   "execution_count": 53,
   "id": "1610b38e-d00d-4c01-a76e-ce06d22f23de",
   "metadata": {},
   "outputs": [
    {
     "data": {
      "image/png": "[encoded data removed]",
      "text/plain": [
       "<Figure size 1200x800 with 1 Axes>"
      ]
     },
     "metadata": {},
     "output_type": "display_data"
    }
   ],
   "source": [
    "# create tfidf representation\n",
    "corpus_tfidf_fake = tfidf_corpus(doc_term_fake)\n",
    "# coherence scores for fake news data\n",
    "get_coherence_scores(corpus_tfidf_fake, dictionary_fake, fake_news_text, min_topics=2, max_topics=11)"
   ]
  },
  {
   "cell_type": "code",
   "execution_count": 54,
   "id": "87a731a4-b79e-4e35-bfac-07ad3b6bb256",
   "metadata": {},
   "outputs": [
    {
     "data": {
      "text/plain": [
       "[(0,\n",
       "  '-0.304*\"cryptid\" + -0.299*\"wildlife\" + -0.288*\"seen\" + -0.283*\"viral\" + -0.209*\"footage\" + -0.197*\"blurry\" + -0.196*\"bigfoot\" + -0.193*\"yeti\" + -0.189*\"video\" + -0.187*\"post\"'),\n",
       " (1,\n",
       "  '-0.194*\"paranormal\" + -0.190*\"activity\" + -0.165*\"alien\" + 0.160*\"cryptid\" + -0.158*\"moving\" + -0.156*\"ghost\" + -0.155*\"tabloid\" + -0.151*\"staff\" + -0.150*\"due\" + 0.150*\"seen\"'),\n",
       " (2,\n",
       "  '-0.235*\"paranormal\" + -0.228*\"activity\" + 0.202*\"alien\" + -0.187*\"moving\" + -0.185*\"staff\" + -0.170*\"due\" + -0.163*\"ghost\" + 0.161*\"extraterrestrial\" + -0.159*\"haunt\" + -0.156*\"scare\"'),\n",
       " (3,\n",
       "  '0.297*\"2024\" + 0.281*\"journal\" + 0.244*\"u\" + 0.234*\"approved\" + 0.234*\"published\" + 0.229*\"study\" + 0.212*\"patient\" + 0.203*\"therapy\" + 0.169*\"launched\" + 0.169*\"featured\"'),\n",
       " (4,\n",
       "  '0.253*\"loch\" + 0.237*\"monster\" + 0.224*\"ness\" + -0.192*\"built\" + -0.176*\"citing\" + -0.169*\"archaeologist\" + -0.168*\"tv\" + 0.149*\"sighting\" + -0.147*\"engineering\" + -0.142*\"helped\"')]"
      ]
     },
     "execution_count": 54,
     "metadata": {},
     "output_type": "execute_result"
    }
   ],
   "source": [
    "# model for fake news data\n",
    "lsa_fake = LsiModel(corpus_tfidf_fake, id2word=dictionary_fake, num_topics=5)\n",
    "lsa_fake.print_topics()"
   ]
  },
  {
   "cell_type": "markdown",
   "id": "93486eac-9a27-4960-9029-04da6405012a",
   "metadata": {},
   "source": [
    "## Predict fake or factual news"
   ]
  },
  {
   "cell_type": "code",
   "execution_count": 55,
   "id": "2d1fb87f-e6e0-4e2d-8f0b-0b5346cb26a9",
   "metadata": {},
   "outputs": [
    {
     "data": {
      "text/html": [
       "<div>\n",
       "<style scoped>\n",
       "    .dataframe tbody tr th:only-of-type {\n",
       "        vertical-align: middle;\n",
       "    }\n",
       "\n",
       "    .dataframe tbody tr th {\n",
       "        vertical-align: top;\n",
       "    }\n",
       "\n",
       "    .dataframe thead th {\n",
       "        text-align: right;\n",
       "    }\n",
       "</style>\n",
       "<table border=\"1\" class=\"dataframe\">\n",
       "  <thead>\n",
       "    <tr style=\"text-align: right;\">\n",
       "      <th></th>\n",
       "      <th>title</th>\n",
       "      <th>text</th>\n",
       "      <th>date</th>\n",
       "      <th>fake_or_factual</th>\n",
       "      <th>text_clean</th>\n",
       "      <th>vader_sentiment_score</th>\n",
       "      <th>vader_sentiment_label</th>\n",
       "    </tr>\n",
       "  </thead>\n",
       "  <tbody>\n",
       "    <tr>\n",
       "      <th>0</th>\n",
       "      <td>New Study Claims Chocolate Cures Cancer</td>\n",
       "      <td>A groundbreaking study from an obscure lab cla...</td>\n",
       "      <td>15-Jan-24</td>\n",
       "      <td>Fake News</td>\n",
       "      <td>[groundbreaking, study, obscure, lab, claim, e...</td>\n",
       "      <td>-0.4019</td>\n",
       "      <td>negative</td>\n",
       "    </tr>\n",
       "    <tr>\n",
       "      <th>1</th>\n",
       "      <td>Scientists Discover New Species of Fish in Pac...</td>\n",
       "      <td>Marine biologists from NOAA announced the disc...</td>\n",
       "      <td>10-Feb-24</td>\n",
       "      <td>Factual News</td>\n",
       "      <td>[marine, biologist, noaa, announced, discovery...</td>\n",
       "      <td>0.0000</td>\n",
       "      <td>neutral</td>\n",
       "    </tr>\n",
       "    <tr>\n",
       "      <th>2</th>\n",
       "      <td>Alien Fossils Found in Antarctica</td>\n",
       "      <td>A viral blog post claims researchers uncovered...</td>\n",
       "      <td>25-Mar-24</td>\n",
       "      <td>Fake News</td>\n",
       "      <td>[viral, blog, post, claim, researcher, uncover...</td>\n",
       "      <td>-0.3818</td>\n",
       "      <td>negative</td>\n",
       "    </tr>\n",
       "    <tr>\n",
       "      <th>3</th>\n",
       "      <td>New Solar Panel Design Boosts Efficiency by 30%</td>\n",
       "      <td>Engineers at MIT developed a solar panel with ...</td>\n",
       "      <td>5-Apr-24</td>\n",
       "      <td>Factual News</td>\n",
       "      <td>[engineer, mit, developed, solar, panel, novel...</td>\n",
       "      <td>0.8442</td>\n",
       "      <td>positive</td>\n",
       "    </tr>\n",
       "    <tr>\n",
       "      <th>4</th>\n",
       "      <td>Tom Hanks Secretly Runs a Time Travel Agency</td>\n",
       "      <td>A conspiracy website claims Tom Hanks operates...</td>\n",
       "      <td>12-May-24</td>\n",
       "      <td>Fake News</td>\n",
       "      <td>[conspiracy, website, claim, tom, hank, operat...</td>\n",
       "      <td>-0.7184</td>\n",
       "      <td>negative</td>\n",
       "    </tr>\n",
       "  </tbody>\n",
       "</table>\n",
       "</div>"
      ],
      "text/plain": [
       "                                               title  \\\n",
       "0            New Study Claims Chocolate Cures Cancer   \n",
       "1  Scientists Discover New Species of Fish in Pac...   \n",
       "2                  Alien Fossils Found in Antarctica   \n",
       "3    New Solar Panel Design Boosts Efficiency by 30%   \n",
       "4       Tom Hanks Secretly Runs a Time Travel Agency   \n",
       "\n",
       "                                                text       date  \\\n",
       "0  A groundbreaking study from an obscure lab cla...  15-Jan-24   \n",
       "1  Marine biologists from NOAA announced the disc...  10-Feb-24   \n",
       "2  A viral blog post claims researchers uncovered...  25-Mar-24   \n",
       "3  Engineers at MIT developed a solar panel with ...   5-Apr-24   \n",
       "4  A conspiracy website claims Tom Hanks operates...  12-May-24   \n",
       "\n",
       "  fake_or_factual                                         text_clean  \\\n",
       "0       Fake News  [groundbreaking, study, obscure, lab, claim, e...   \n",
       "1    Factual News  [marine, biologist, noaa, announced, discovery...   \n",
       "2       Fake News  [viral, blog, post, claim, researcher, uncover...   \n",
       "3    Factual News  [engineer, mit, developed, solar, panel, novel...   \n",
       "4       Fake News  [conspiracy, website, claim, tom, hank, operat...   \n",
       "\n",
       "   vader_sentiment_score vader_sentiment_label  \n",
       "0                -0.4019              negative  \n",
       "1                 0.0000               neutral  \n",
       "2                -0.3818              negative  \n",
       "3                 0.8442              positive  \n",
       "4                -0.7184              negative  "
      ]
     },
     "execution_count": 55,
     "metadata": {},
     "output_type": "execute_result"
    }
   ],
   "source": [
    "data.head()"
   ]
  },
  {
   "cell_type": "code",
   "execution_count": 62,
   "id": "3efa4c8d-d527-42d2-8185-2fa85939529d",
   "metadata": {},
   "outputs": [],
   "source": [
    "from sklearn.preprocessing import LabelEncoder\n",
    "label_encoder = LabelEncoder()\n",
    "data['fake_or_factual'] = label_encoder.fit_transform(data['fake_or_factual'])\n",
    "\n",
    "X = [','.join(map(str, l)) for l in data['text_clean']]\n",
    "Y = data['fake_or_factual']"
   ]
  },
  {
   "cell_type": "code",
   "execution_count": 63,
   "id": "ddec24b7-aee1-43b1-9cd4-296abbd5da49",
   "metadata": {},
   "outputs": [],
   "source": [
    "# text vectorization - CountVectorizer\n",
    "countvec = CountVectorizer()\n",
    "countvec_fit = countvec.fit_transform(X)\n",
    "bag_of_words = pd.DataFrame(countvec_fit.toarray(), columns = countvec.get_feature_names_out())"
   ]
  },
  {
   "cell_type": "code",
   "execution_count": 64,
   "id": "dd92c396-4f30-40cf-9225-e3cec901d377",
   "metadata": {},
   "outputs": [],
   "source": [
    "# split into train and test data\n",
    "X_train, X_test, y_train, y_test = train_test_split(bag_of_words, Y, test_size=0.3, random_state=0)"
   ]
  },
  {
   "cell_type": "code",
   "execution_count": 65,
   "id": "ef56c808-0c15-4564-b3f8-5b94bf66c032",
   "metadata": {},
   "outputs": [],
   "source": [
    "lr = LogisticRegression(random_state=0).fit(X_train, y_train)"
   ]
  },
  {
   "cell_type": "code",
   "execution_count": 66,
   "id": "621d9916-03c5-4d9f-bbc3-45e4d51a1e4e",
   "metadata": {},
   "outputs": [],
   "source": [
    "y_pred_lr = lr.predict(X_test)"
   ]
  },
  {
   "cell_type": "code",
   "execution_count": 67,
   "id": "e37f1c2c-a8d0-4788-8d2a-5137b1c18560",
   "metadata": {},
   "outputs": [
    {
     "data": {
      "text/plain": [
       "0.84"
      ]
     },
     "execution_count": 67,
     "metadata": {},
     "output_type": "execute_result"
    }
   ],
   "source": [
    "accuracy_score(y_pred_lr, y_test)"
   ]
  },
  {
   "cell_type": "code",
   "execution_count": 68,
   "id": "477853c4-4a0d-49ef-8a2c-04e2be7d5881",
   "metadata": {},
   "outputs": [
    {
     "name": "stdout",
     "output_type": "stream",
     "text": [
      "              precision    recall  f1-score   support\n",
      "\n",
      "           0       0.70      0.91      0.79        33\n",
      "           1       0.95      0.82      0.88        66\n",
      "           2       0.00      0.00      0.00         1\n",
      "\n",
      "    accuracy                           0.84       100\n",
      "   macro avg       0.55      0.58      0.56       100\n",
      "weighted avg       0.86      0.84      0.84       100\n",
      "\n"
     ]
    },
    {
     "name": "stderr",
     "output_type": "stream",
     "text": [
      "C:\\Users\\Admin\\anaconda3\\envs\\myenv311\\Lib\\site-packages\\sklearn\\metrics\\_classification.py:1565: UndefinedMetricWarning: Precision is ill-defined and being set to 0.0 in labels with no predicted samples. Use `zero_division` parameter to control this behavior.\n",
      "  _warn_prf(average, modifier, f\"{metric.capitalize()} is\", len(result))\n",
      "C:\\Users\\Admin\\anaconda3\\envs\\myenv311\\Lib\\site-packages\\sklearn\\metrics\\_classification.py:1565: UndefinedMetricWarning: Precision is ill-defined and being set to 0.0 in labels with no predicted samples. Use `zero_division` parameter to control this behavior.\n",
      "  _warn_prf(average, modifier, f\"{metric.capitalize()} is\", len(result))\n",
      "C:\\Users\\Admin\\anaconda3\\envs\\myenv311\\Lib\\site-packages\\sklearn\\metrics\\_classification.py:1565: UndefinedMetricWarning: Precision is ill-defined and being set to 0.0 in labels with no predicted samples. Use `zero_division` parameter to control this behavior.\n",
      "  _warn_prf(average, modifier, f\"{metric.capitalize()} is\", len(result))\n"
     ]
    }
   ],
   "source": [
    "print(classification_report(y_test, y_pred_lr))"
   ]
  },
  {
   "cell_type": "code",
   "execution_count": 69,
   "id": "3149df1d-7136-4df1-9e0d-23d29265905f",
   "metadata": {},
   "outputs": [],
   "source": [
    "svm = SGDClassifier().fit(X_train, y_train)"
   ]
  },
  {
   "cell_type": "code",
   "execution_count": 70,
   "id": "247dfb23-d761-4a0e-aa47-1887348bc8d9",
   "metadata": {},
   "outputs": [],
   "source": [
    "y_pred_svm = svm.predict(X_test)"
   ]
  },
  {
   "cell_type": "code",
   "execution_count": 71,
   "id": "7bb42afb-b4cf-4628-8fbb-419867dc75a2",
   "metadata": {},
   "outputs": [
    {
     "data": {
      "text/plain": [
       "0.78"
      ]
     },
     "execution_count": 71,
     "metadata": {},
     "output_type": "execute_result"
    }
   ],
   "source": [
    "accuracy_score(y_pred_svm, y_test)"
   ]
  },
  {
   "cell_type": "code",
   "execution_count": 72,
   "id": "e82a6ddd-fbfd-4f5c-89b4-cdbb1b4d763f",
   "metadata": {},
   "outputs": [
    {
     "name": "stdout",
     "output_type": "stream",
     "text": [
      "              precision    recall  f1-score   support\n",
      "\n",
      "           0       0.63      0.88      0.73        33\n",
      "           1       0.91      0.74      0.82        66\n",
      "           2       0.00      0.00      0.00         1\n",
      "\n",
      "    accuracy                           0.78       100\n",
      "   macro avg       0.51      0.54      0.52       100\n",
      "weighted avg       0.81      0.78      0.78       100\n",
      "\n"
     ]
    },
    {
     "name": "stderr",
     "output_type": "stream",
     "text": [
      "C:\\Users\\Admin\\anaconda3\\envs\\myenv311\\Lib\\site-packages\\sklearn\\metrics\\_classification.py:1565: UndefinedMetricWarning: Precision is ill-defined and being set to 0.0 in labels with no predicted samples. Use `zero_division` parameter to control this behavior.\n",
      "  _warn_prf(average, modifier, f\"{metric.capitalize()} is\", len(result))\n",
      "C:\\Users\\Admin\\anaconda3\\envs\\myenv311\\Lib\\site-packages\\sklearn\\metrics\\_classification.py:1565: UndefinedMetricWarning: Precision is ill-defined and being set to 0.0 in labels with no predicted samples. Use `zero_division` parameter to control this behavior.\n",
      "  _warn_prf(average, modifier, f\"{metric.capitalize()} is\", len(result))\n",
      "C:\\Users\\Admin\\anaconda3\\envs\\myenv311\\Lib\\site-packages\\sklearn\\metrics\\_classification.py:1565: UndefinedMetricWarning: Precision is ill-defined and being set to 0.0 in labels with no predicted samples. Use `zero_division` parameter to control this behavior.\n",
      "  _warn_prf(average, modifier, f\"{metric.capitalize()} is\", len(result))\n"
     ]
    }
   ],
   "source": [
    "print(classification_report(y_test, y_pred_svm))"
   ]
  },
  {
   "cell_type": "code",
   "execution_count": null,
   "id": "6cb5bc43-7894-4bca-9e62-c89b81558712",
   "metadata": {},
   "outputs": [],
   "source": []
  }
 ],
 "metadata": {
  "kernelspec": {
   "display_name": "Python 3 (ipykernel)",
   "language": "python",
   "name": "python3"
  },
  "language_info": {
   "codemirror_mode": {
    "name": "ipython",
    "version": 3
   },
   "file_extension": ".py",
   "mimetype": "text/x-python",
   "name": "python",
   "nbconvert_exporter": "python",
   "pygments_lexer": "ipython3",
   "version": "3.11.11"
  }
 },
 "nbformat": 4,
 "nbformat_minor": 5
}
