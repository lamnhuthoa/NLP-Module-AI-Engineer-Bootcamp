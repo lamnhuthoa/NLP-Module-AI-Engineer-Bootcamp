{
 "cells": [
  {
   "cell_type": "markdown",
   "id": "5c21816d-4573-417d-9742-a3616a47e108",
   "metadata": {},
   "source": [
    "## LDA (Latent Dirichlet Allocation)"
   ]
  },
  {
   "cell_type": "code",
   "execution_count": 1,
   "id": "e6ab4c1c-cefc-4df7-92af-bcf327d3c131",
   "metadata": {
    "scrolled": true
   },
   "outputs": [],
   "source": [
    "import pandas as pd\n",
    "import re\n",
    "from nltk.corpus import stopwords\n",
    "from nltk.tokenize import word_tokenize\n",
    "from nltk.stem import PorterStemmer\n",
    "import gensim\n",
    "import gensim.corpora as corpora"
   ]
  },
  {
   "cell_type": "markdown",
   "id": "353f0cca-d252-4fec-bfc3-73b941134db3",
   "metadata": {},
   "source": [
    "### Load Data"
   ]
  },
  {
   "cell_type": "code",
   "execution_count": 2,
   "id": "0175cb46-5159-40f5-b5a6-ad14b870a339",
   "metadata": {},
   "outputs": [],
   "source": [
    "data = pd.read_csv(\"news_articles.csv\")"
   ]
  },
  {
   "cell_type": "code",
   "execution_count": 3,
   "id": "1f9b7f41-05c0-4da8-9974-9b1c8c879f6b",
   "metadata": {},
   "outputs": [
    {
     "data": {
      "text/html": [
       "<div>\n",
       "<style scoped>\n",
       "    .dataframe tbody tr th:only-of-type {\n",
       "        vertical-align: middle;\n",
       "    }\n",
       "\n",
       "    .dataframe tbody tr th {\n",
       "        vertical-align: top;\n",
       "    }\n",
       "\n",
       "    .dataframe thead th {\n",
       "        text-align: right;\n",
       "    }\n",
       "</style>\n",
       "<table border=\"1\" class=\"dataframe\">\n",
       "  <thead>\n",
       "    <tr style=\"text-align: right;\">\n",
       "      <th></th>\n",
       "      <th>title</th>\n",
       "      <th>content</th>\n",
       "      <th>date</th>\n",
       "      <th>fake_or_factual</th>\n",
       "    </tr>\n",
       "  </thead>\n",
       "  <tbody>\n",
       "    <tr>\n",
       "      <th>0</th>\n",
       "      <td>New Study Claims Chocolate Cures Cancer</td>\n",
       "      <td>A groundbreaking study from an obscure lab cla...</td>\n",
       "      <td>15-Jan-24</td>\n",
       "      <td>Fake News</td>\n",
       "    </tr>\n",
       "    <tr>\n",
       "      <th>1</th>\n",
       "      <td>Scientists Discover New Species of Fish in Pac...</td>\n",
       "      <td>Marine biologists from NOAA announced the disc...</td>\n",
       "      <td>10-Feb-24</td>\n",
       "      <td>Factual News</td>\n",
       "    </tr>\n",
       "    <tr>\n",
       "      <th>2</th>\n",
       "      <td>Alien Fossils Found in Antarctica</td>\n",
       "      <td>A viral blog post claims researchers uncovered...</td>\n",
       "      <td>25-Mar-24</td>\n",
       "      <td>Fake News</td>\n",
       "    </tr>\n",
       "    <tr>\n",
       "      <th>3</th>\n",
       "      <td>New Solar Panel Design Boosts Efficiency by 30%</td>\n",
       "      <td>Engineers at MIT developed a solar panel with ...</td>\n",
       "      <td>5-Apr-24</td>\n",
       "      <td>Factual News</td>\n",
       "    </tr>\n",
       "    <tr>\n",
       "      <th>4</th>\n",
       "      <td>Tom Hanks Secretly Runs a Time Travel Agency</td>\n",
       "      <td>A conspiracy website claims Tom Hanks operates...</td>\n",
       "      <td>12-May-24</td>\n",
       "      <td>Fake News</td>\n",
       "    </tr>\n",
       "  </tbody>\n",
       "</table>\n",
       "</div>"
      ],
      "text/plain": [
       "                                               title  \\\n",
       "0            New Study Claims Chocolate Cures Cancer   \n",
       "1  Scientists Discover New Species of Fish in Pac...   \n",
       "2                  Alien Fossils Found in Antarctica   \n",
       "3    New Solar Panel Design Boosts Efficiency by 30%   \n",
       "4       Tom Hanks Secretly Runs a Time Travel Agency   \n",
       "\n",
       "                                             content       date  \\\n",
       "0  A groundbreaking study from an obscure lab cla...  15-Jan-24   \n",
       "1  Marine biologists from NOAA announced the disc...  10-Feb-24   \n",
       "2  A viral blog post claims researchers uncovered...  25-Mar-24   \n",
       "3  Engineers at MIT developed a solar panel with ...   5-Apr-24   \n",
       "4  A conspiracy website claims Tom Hanks operates...  12-May-24   \n",
       "\n",
       "  fake_or_factual  \n",
       "0       Fake News  \n",
       "1    Factual News  \n",
       "2       Fake News  \n",
       "3    Factual News  \n",
       "4       Fake News  "
      ]
     },
     "execution_count": 3,
     "metadata": {},
     "output_type": "execute_result"
    }
   ],
   "source": [
    "data.head()"
   ]
  },
  {
   "cell_type": "code",
   "execution_count": 4,
   "id": "7622ee53-10cf-4324-9096-10314a06aa22",
   "metadata": {},
   "outputs": [
    {
     "name": "stdout",
     "output_type": "stream",
     "text": [
      "<class 'pandas.core.frame.DataFrame'>\n",
      "RangeIndex: 52 entries, 0 to 51\n",
      "Data columns (total 4 columns):\n",
      " #   Column           Non-Null Count  Dtype \n",
      "---  ------           --------------  ----- \n",
      " 0   title            52 non-null     object\n",
      " 1   content          52 non-null     object\n",
      " 2   date             52 non-null     object\n",
      " 3   fake_or_factual  52 non-null     object\n",
      "dtypes: object(4)\n",
      "memory usage: 1.8+ KB\n"
     ]
    }
   ],
   "source": [
    "data.info()"
   ]
  },
  {
   "cell_type": "markdown",
   "id": "67633f7c-7704-4a71-ae29-293f13c4b7ac",
   "metadata": {},
   "source": [
    "### Clean Data"
   ]
  },
  {
   "cell_type": "code",
   "execution_count": 5,
   "id": "dceebd91-8c2e-49fa-bee4-9e45d3609a0b",
   "metadata": {},
   "outputs": [],
   "source": [
    "articles = data['content'].str.lower().apply(lambda x: re.sub(r\"([^\\w\\s])\", \"\", x))\n",
    "\n",
    "en_stopwords = stopwords.words('english')\n",
    "articles = articles.apply(lambda x: ' '.join([word for word in x.split() if word not in (en_stopwords)]))\n",
    "\n",
    "articles = articles.apply(lambda x: word_tokenize(x))\n",
    "\n",
    "ps = PorterStemmer()\n",
    "articles = articles.apply(lambda tokens: [ps.stem(token) for token in tokens])"
   ]
  },
  {
   "cell_type": "code",
   "execution_count": 6,
   "id": "5fb1b87d-0c6f-439f-8ac0-5a1b8fb2b200",
   "metadata": {},
   "outputs": [
    {
     "data": {
      "text/plain": [
       "0     [groundbreak, studi, obscur, lab, claim, eat, ...\n",
       "1     [marin, biologist, noaa, announc, discoveri, n...\n",
       "2     [viral, blog, post, claim, research, uncov, al...\n",
       "3     [engin, mit, develop, solar, panel, novel, per...\n",
       "4     [conspiraci, websit, claim, tom, hank, oper, c...\n",
       "5     [studi, john, hopkin, univers, found, new, dru...\n",
       "6     [selfproclaim, historian, claim, dinosaur, con...\n",
       "7     [coral, restor, foundat, report, 40, increas, ...\n",
       "8     [tabloid, claim, bigfoot, seen, wander, tokyo,...\n",
       "9     [research, stanford, develop, lithiumion, batt...\n",
       "10    [viral, x, post, insist, 1969, moon, land, fil...\n",
       "11    [nasa, satellit, data, show, arctic, sea, ice,...\n",
       "12    [gossip, site, claim, elvi, presley, fake, dea...\n",
       "13    [team, eth, zurich, develop, aipow, prosthet, ...\n",
       "14    [fring, websit, claim, ancient, mayan, tablet,...\n",
       "15    [cdc, announc, new, flu, vaccin, reduc, sever,...\n",
       "16    [sensat, news, outlet, report, haunt, toaster,...\n",
       "17    [uk, complet, world, largest, offshor, wind, f...\n",
       "18    [viral, video, claim, sea, monster, wash, asho...\n",
       "19    [clinic, trial, uk, success, use, gene, therap...\n",
       "20    [tabloid, report, vampir, cult, live, pari, se...\n",
       "21    [ibm, quantum, comput, team, achiev, breakthro...\n",
       "22    [tv, show, claim, alien, help, build, machu, p...\n",
       "23    [jame, webb, space, telescop, captur, detail, ...\n",
       "24    [drone, oper, claim, film, loch, ness, monster...\n",
       "25    [surgeon, japan, success, transplant, 3dprint,...\n",
       "26    [dubiou, websit, claim, studi, link, wifi, bra...\n",
       "27    [un, trillion, tree, initi, report, plant, 1, ...\n",
       "28    [youtub, video, featur, time, travel, warn, 20...\n",
       "29    [oxford, univers, research, develop, antibiot,...\n",
       "30    [sensat, report, claim, ghost, ship, 1800, app...\n",
       "31    [engin, tu, delft, creat, concret, selfheal, u...\n",
       "32    [mountain, blog, claim, found, yeti, footprint...\n",
       "33    [labgrown, chicken, produc, california, startu...\n",
       "34    [flat, earth, societi, announc, plan, launch, ...\n",
       "35    [mine, expedit, clarionclipperton, zone, found...\n",
       "36    [tabloid, claim, haunt, doll, move, night, spe...\n",
       "37    [new, ai, model, googl, health, diagnos, breas...\n",
       "38    [viral, tiktok, claim, mermaid, seen, swim, ne...\n",
       "39    [slovakian, compani, fli, car, aircar, receiv,...\n",
       "40    [conspiraci, site, claim, airplan, contrail, c...\n",
       "41    [blood, test, develop, swedish, research, dete...\n",
       "42    [tabloid, report, ancient, curs, caus, ill, am...\n",
       "43    [singapor, vertic, farm, suppli, 10, citi, veg...\n",
       "44    [clickbait, site, claim, zombi, viru, found, s...\n",
       "45    [uk, trial, use, crispr, correct, genet, mutat...\n",
       "46    [tabloid, claim, curs, mirror, london, trap, s...\n",
       "47    [norwegian, compani, windpow, cargo, ship, cut...\n",
       "48    [viral, post, claim, vampir, bat, swarm, new, ...\n",
       "49    [machin, learn, model, caltech, predict, earth...\n",
       "50    [blog, claim, unicorn, bone, found, scotland, ...\n",
       "51    [south, african, trial, hiv, vaccin, show, 70,...\n",
       "Name: content, dtype: object"
      ]
     },
     "execution_count": 6,
     "metadata": {},
     "output_type": "execute_result"
    }
   ],
   "source": [
    "articles"
   ]
  },
  {
   "cell_type": "markdown",
   "id": "3c0430da-d124-4b87-8647-ad0a6c79ec23",
   "metadata": {},
   "source": [
    "### Vectorization"
   ]
  },
  {
   "cell_type": "code",
   "execution_count": 7,
   "id": "1dc25506-ac4e-413c-8331-116dbbfd8b1b",
   "metadata": {},
   "outputs": [
    {
     "name": "stdout",
     "output_type": "stream",
     "text": [
      "Dictionary<644 unique tokens: ['back', 'bean', 'cancer', 'chocol', 'claim']...>\n"
     ]
    }
   ],
   "source": [
    "dictionary = corpora.Dictionary(articles)\n",
    "print(dictionary)"
   ]
  },
  {
   "cell_type": "code",
   "execution_count": 8,
   "id": "4ded9563-c199-4d12-9916-ad3a6c936e19",
   "metadata": {},
   "outputs": [],
   "source": [
    "doc_term = [dictionary.doc2bow(text) for text in articles]"
   ]
  },
  {
   "cell_type": "code",
   "execution_count": 9,
   "id": "f77c1501-06b7-484d-a323-5f9c4302e368",
   "metadata": {},
   "outputs": [
    {
     "name": "stdout",
     "output_type": "stream",
     "text": [
      "[[(0, 1), (1, 1), (2, 1), (3, 2), (4, 2), (5, 1), (6, 1), (7, 1), (8, 1), (9, 1), (10, 1), (11, 2), (12, 1), (13, 1), (14, 1), (15, 1), (16, 1), (17, 1), (18, 1), (19, 1), (20, 2), (21, 1), (22, 1), (23, 1), (24, 1)], [(15, 1), (20, 1), (25, 1), (26, 1), (27, 1), (28, 1), (29, 1), (30, 1), (31, 1), (32, 1), (33, 1), (34, 2), (35, 1), (36, 1), (37, 2), (38, 1), (39, 1), (40, 1), (41, 1), (42, 1), (43, 1), (44, 1), (45, 1)], [(4, 1), (46, 1), (47, 1), (48, 1), (49, 1), (50, 1), (51, 1), (52, 1), (53, 1), (54, 1), (55, 1), (56, 1), (57, 1), (58, 1), (59, 1), (60, 2), (61, 1), (62, 1), (63, 1), (64, 1), (65, 1), (66, 1), (67, 1), (68, 1)], [(55, 1), (69, 1), (70, 1), (71, 1), (72, 1), (73, 1), (74, 1), (75, 1), (76, 3), (77, 1), (78, 1), (79, 1), (80, 1), (81, 1), (82, 1), (83, 1), (84, 1), (85, 1), (86, 1), (87, 2)], [(4, 1), (24, 1), (88, 1), (89, 1), (90, 1), (91, 1), (92, 1), (93, 1), (94, 1), (95, 1), (96, 1), (97, 1), (98, 1), (99, 1), (100, 1), (101, 1), (102, 1), (103, 1), (104, 1), (105, 1), (106, 1), (107, 1)], [(20, 1), (35, 1), (40, 1), (108, 1), (109, 1), (110, 1), (111, 1), (112, 1), (113, 1), (114, 1), (115, 1), (116, 1), (117, 1), (118, 1), (119, 1), (120, 1), (121, 1), (122, 1), (123, 1), (124, 1), (125, 1)], [(4, 1), (96, 1), (126, 1), (127, 1), (128, 1), (129, 1), (130, 1), (131, 1), (132, 1), (133, 1), (134, 1), (135, 1), (136, 1), (137, 1), (138, 1), (139, 1), (140, 1), (141, 1)], [(78, 1), (142, 1), (143, 1), (144, 1), (145, 1), (146, 1), (147, 1), (148, 2), (149, 1), (150, 1), (151, 1), (152, 1), (153, 1), (154, 1), (155, 1), (156, 1), (157, 1), (158, 1), (159, 1)], [(4, 1), (51, 1), (160, 1), (161, 1), (162, 1), (163, 1), (164, 1), (165, 1), (166, 1), (167, 1), (168, 1), (169, 1), (170, 1), (171, 1), (172, 1), (173, 1), (174, 1), (175, 1), (176, 1), (177, 1)], [(62, 1), (72, 1), (74, 1), (141, 1), (178, 1), (179, 1), (180, 1), (181, 1), (182, 1), (183, 1), (184, 1), (185, 1), (186, 1), (187, 1), (188, 1), (189, 1), (190, 1)], [(4, 1), (52, 1), (60, 1), (62, 1), (67, 1), (96, 1), (129, 1), (191, 1), (192, 1), (193, 1), (194, 1), (195, 1), (196, 1), (197, 1), (198, 1), (199, 1), (200, 1), (201, 1), (202, 1), (203, 1)], [(42, 1), (55, 1), (62, 1), (84, 1), (122, 1), (142, 1), (173, 1), (199, 1), (204, 1), (205, 1), (206, 1), (207, 1), (208, 1), (209, 1), (210, 1), (211, 1), (212, 1), (213, 1), (214, 1), (215, 1), (216, 1), (217, 1), (218, 1), (219, 1)], [(4, 1), (100, 1), (103, 1), (220, 1), (221, 1), (222, 1), (223, 1), (224, 1), (225, 1), (226, 1), (227, 1), (228, 1), (229, 1), (230, 1), (231, 1), (232, 1), (233, 1), (234, 1), (235, 1)], [(62, 1), (74, 1), (142, 1), (236, 1), (237, 1), (238, 1), (239, 1), (240, 1), (241, 1), (242, 1), (243, 1), (244, 1), (245, 1), (246, 1), (247, 1), (248, 1), (249, 1), (250, 1), (251, 1), (252, 1)], [(4, 1), (24, 1), (108, 1), (170, 1), (253, 1), (254, 1), (255, 1), (256, 1), (257, 1), (258, 1), (259, 1), (260, 1), (261, 1), (262, 1), (263, 1), (264, 2)], [(26, 1), (40, 1), (85, 1), (123, 1), (124, 1), (142, 1), (265, 1), (266, 1), (267, 1), (268, 1), (269, 1), (270, 1), (271, 1), (272, 1), (273, 1), (274, 1), (275, 2), (276, 1)], [(154, 1), (164, 1), (257, 2), (277, 1), (278, 1), (279, 2), (280, 1), (281, 1), (282, 1), (283, 1), (284, 1), (285, 1), (286, 1), (287, 1), (288, 1), (289, 1)], [(76, 2), (157, 1), (181, 1), (218, 1), (281, 1), (290, 1), (291, 1), (292, 1), (293, 1), (294, 1), (295, 1), (296, 1), (297, 1), (298, 1), (299, 1), (300, 1), (301, 1), (302, 1), (303, 1), (304, 1), (305, 1), (306, 1)], [(4, 1), (28, 1), (37, 1), (67, 1), (173, 1), (176, 1), (218, 1), (307, 1), (308, 1), (309, 1), (310, 1), (311, 1), (312, 1), (313, 1), (314, 1), (315, 1), (316, 1), (317, 1)], [(80, 1), (84, 1), (124, 1), (141, 1), (155, 1), (156, 1), (270, 1), (304, 1), (318, 1), (319, 1), (320, 1), (321, 1), (322, 1), (323, 1), (324, 1), (325, 1), (326, 1), (327, 1), (328, 1), (329, 1)], [(96, 1), (154, 1), (170, 1), (174, 1), (234, 1), (330, 1), (331, 1), (332, 1), (333, 1), (334, 1), (335, 1), (336, 1), (337, 1), (338, 1), (339, 1), (340, 1), (341, 1)], [(72, 1), (74, 1), (84, 1), (104, 1), (113, 1), (159, 1), (187, 1), (250, 1), (342, 1), (343, 1), (344, 1), (345, 1), (346, 1), (347, 2), (348, 1), (349, 1), (350, 1), (351, 1), (352, 2), (353, 1)], [(4, 1), (46, 1), (52, 1), (77, 1), (96, 1), (103, 1), (126, 1), (128, 1), (173, 1), (256, 1), (277, 1), (354, 1), (355, 1), (356, 1), (357, 1), (358, 1), (359, 1), (360, 1), (361, 1)], [(55, 1), (154, 1), (181, 1), (208, 1), (362, 1), (363, 1), (364, 1), (365, 1), (366, 1), (367, 1), (368, 1), (369, 1), (370, 1), (371, 1), (372, 1), (373, 1), (374, 1), (375, 1), (376, 1), (377, 1)], [(4, 1), (34, 1), (99, 1), (139, 1), (164, 1), (166, 1), (168, 1), (170, 1), (192, 1), (315, 1), (376, 1), (378, 1), (379, 2), (380, 1), (381, 1), (382, 1), (383, 1), (384, 1)], [(98, 1), (117, 1), (141, 1), (156, 1), (181, 1), (326, 1), (345, 1), (385, 1), (386, 1), (387, 1), (388, 1), (389, 1), (390, 1), (391, 1), (392, 1), (393, 1), (394, 1), (395, 1)], [(4, 1), (20, 2), (24, 1), (52, 1), (53, 1), (88, 1), (396, 1), (397, 1), (398, 1), (399, 1), (400, 1), (401, 1), (402, 1), (403, 1), (404, 1), (405, 1), (406, 2)], [(92, 1), (142, 2), (154, 1), (324, 1), (366, 1), (407, 1), (408, 1), (409, 1), (410, 1), (411, 1), (412, 1), (413, 1), (414, 1), (415, 2), (416, 1), (417, 1), (418, 1)], [(4, 1), (17, 1), (87, 1), (96, 1), (104, 1), (106, 1), (108, 1), (176, 1), (419, 1), (420, 1), (421, 1), (422, 1), (423, 1), (424, 1), (425, 1), (426, 1), (427, 1)], [(62, 1), (74, 1), (80, 1), (113, 1), (124, 1), (125, 1), (298, 1), (337, 1), (428, 1), (429, 1), (430, 1), (431, 1), (432, 1), (433, 1), (434, 1), (435, 1), (436, 1)], [(4, 1), (40, 1), (154, 1), (173, 1), (234, 1), (285, 1), (437, 1), (438, 1), (439, 1), (440, 1), (441, 1), (442, 1), (443, 1), (444, 1), (445, 1), (446, 1), (447, 1), (448, 1)], [(77, 1), (84, 1), (141, 1), (183, 1), (302, 1), (387, 1), (449, 1), (450, 1), (451, 1), (452, 1), (453, 1), (454, 1), (455, 1), (456, 1), (457, 1), (458, 1), (459, 1), (460, 1)], [(4, 1), (17, 1), (35, 1), (50, 1), (100, 1), (168, 1), (170, 1), (214, 1), (379, 1), (461, 1), (462, 1), (463, 1), (464, 1), (465, 1), (466, 1), (467, 1), (468, 1), (469, 1), (470, 1)], [(52, 1), (142, 1), (266, 1), (267, 1), (471, 1), (472, 1), (473, 1), (474, 1), (475, 1), (476, 1), (477, 1), (478, 1), (479, 1), (480, 1), (481, 1), (482, 1)], [(26, 1), (53, 1), (54, 3), (164, 1), (217, 1), (384, 1), (483, 1), (484, 2), (485, 1), (486, 1), (487, 1), (488, 1), (489, 1), (490, 1), (491, 1), (492, 1), (493, 1)], [(35, 1), (54, 1), (76, 1), (99, 1), (181, 1), (303, 1), (417, 1), (494, 1), (495, 1), (496, 1), (497, 1), (498, 1), (499, 1), (500, 1), (501, 1), (502, 1), (503, 1)], [(4, 1), (164, 1), (168, 1), (170, 1), (174, 1), (230, 1), (280, 1), (281, 1), (425, 1), (504, 1), (505, 1), (506, 1), (507, 1), (508, 1), (509, 1), (510, 1), (511, 1)], [(2, 1), (20, 1), (40, 1), (84, 1), (115, 1), (142, 1), (402, 1), (512, 1), (513, 1), (514, 1), (515, 1), (516, 1), (517, 1), (518, 1), (519, 1), (520, 1), (521, 1)], [(4, 1), (28, 1), (37, 1), (67, 1), (89, 1), (166, 1), (168, 1), (170, 1), (171, 1), (173, 1), (522, 1), (523, 1), (524, 1), (525, 1), (526, 1), (527, 1), (528, 1), (529, 1), (530, 1)], [(266, 1), (293, 1), (433, 1), (458, 1), (531, 1), (532, 1), (533, 1), (534, 2), (535, 1), (536, 1), (537, 1), (538, 1), (539, 1), (540, 1), (541, 1), (542, 1), (543, 1), (544, 1), (545, 1)], [(4, 1), (17, 1), (93, 1), (96, 1), (103, 1), (257, 1), (375, 1), (376, 1), (546, 1), (547, 1), (548, 1), (549, 2), (550, 1), (551, 1), (552, 1), (553, 1), (554, 1)], [(62, 1), (74, 1), (84, 1), (110, 1), (178, 1), (332, 1), (458, 2), (555, 1), (556, 1), (557, 1), (558, 1), (559, 1), (560, 1), (561, 1), (562, 1)], [(154, 1), (164, 1), (170, 1), (174, 1), (210, 1), (254, 1), (256, 1), (257, 1), (392, 1), (563, 1), (564, 2), (565, 1), (566, 2), (567, 1), (568, 1), (569, 1)], [(141, 1), (178, 1), (181, 1), (294, 2), (376, 1), (518, 1), (555, 1), (570, 1), (571, 1), (572, 1), (573, 1), (574, 1), (575, 1), (576, 1), (577, 1), (578, 1), (579, 1), (580, 1)], [(4, 1), (35, 1), (52, 1), (103, 1), (154, 1), (170, 1), (234, 1), (335, 1), (401, 1), (581, 1), (582, 1), (583, 1), (584, 1), (585, 1), (586, 2), (587, 1)], [(117, 1), (124, 1), (141, 1), (173, 1), (242, 1), (257, 1), (304, 1), (326, 1), (327, 1), (389, 1), (438, 1), (588, 1), (589, 1), (590, 1), (591, 1), (592, 1), (593, 1), (594, 1)], [(4, 1), (96, 1), (164, 1), (170, 1), (174, 1), (234, 1), (287, 1), (564, 1), (595, 1), (596, 1), (597, 1), (598, 1), (599, 1), (600, 1), (601, 1)], [(73, 1), (124, 1), (141, 2), (142, 1), (262, 1), (423, 1), (443, 1), (445, 1), (535, 1), (602, 1), (603, 1), (604, 1), (605, 1), (606, 1), (607, 1), (608, 1), (609, 1)], [(4, 1), (40, 1), (60, 1), (67, 1), (170, 1), (234, 1), (341, 1), (448, 1), (610, 1), (611, 2), (612, 1), (613, 1), (614, 1), (615, 1), (616, 1), (617, 1), (618, 1), (619, 1)], [(62, 1), (84, 1), (141, 1), (208, 1), (213, 1), (263, 1), (390, 1), (458, 1), (513, 1), (518, 1), (620, 1), (621, 1), (622, 1), (623, 1), (624, 1), (625, 1), (626, 1), (627, 1)], [(4, 1), (35, 1), (50, 1), (61, 1), (100, 1), (309, 1), (314, 1), (379, 1), (628, 2), (629, 1), (630, 1), (631, 1), (632, 1), (633, 1)], [(84, 1), (124, 1), (173, 1), (275, 1), (321, 1), (322, 1), (327, 1), (573, 1), (617, 1), (634, 1), (635, 1), (636, 1), (637, 1), (638, 1), (639, 1), (640, 1), (641, 1), (642, 1), (643, 1)]]\n"
     ]
    }
   ],
   "source": [
    "print(doc_term)"
   ]
  },
  {
   "cell_type": "markdown",
   "id": "a5cf9f37-2f92-4d5d-88d1-c7dba77f22a0",
   "metadata": {},
   "source": [
    "### LDA"
   ]
  },
  {
   "cell_type": "code",
   "execution_count": 10,
   "id": "f06b117c-b83b-49ef-9f53-1c937b9455ec",
   "metadata": {},
   "outputs": [],
   "source": [
    "num_topics = 2"
   ]
  },
  {
   "cell_type": "code",
   "execution_count": 11,
   "id": "6aa6c254-93bc-49f1-a99f-049999c14e29",
   "metadata": {},
   "outputs": [],
   "source": [
    "lda_model = gensim.models.LdaModel(corpus=doc_term, id2word=dictionary, num_topics=num_topics)"
   ]
  },
  {
   "cell_type": "code",
   "execution_count": 12,
   "id": "47403010-5444-4ebb-bdf4-292a9dd1526a",
   "metadata": {},
   "outputs": [
    {
     "data": {
      "text/plain": [
       "[(0,\n",
       "  '0.017*\"claim\" + 0.008*\"2024\" + 0.007*\"report\" + 0.007*\"use\" + 0.007*\"research\"'),\n",
       " (1,\n",
       "  '0.013*\"claim\" + 0.008*\"say\" + 0.007*\"publish\" + 0.007*\"energi\" + 0.006*\"use\"')]"
      ]
     },
     "execution_count": 12,
     "metadata": {},
     "output_type": "execute_result"
    }
   ],
   "source": [
    "lda_model.print_topics(num_topics=num_topics, num_words=5)"
   ]
  },
  {
   "cell_type": "code",
   "execution_count": 13,
   "id": "9c6aadcb-d489-40f2-b3fc-62f233b1bbf0",
   "metadata": {},
   "outputs": [],
   "source": [
    "from gensim.models import LsiModel"
   ]
  },
  {
   "cell_type": "code",
   "execution_count": 14,
   "id": "ac441215-41bf-4635-ad89-d5f20670f8b5",
   "metadata": {},
   "outputs": [],
   "source": [
    "lsa_model = LsiModel(corpus=doc_term, id2word=dictionary, num_topics=num_topics)"
   ]
  },
  {
   "cell_type": "code",
   "execution_count": 15,
   "id": "eee5679f-2c46-4537-b685-83d7f842facc",
   "metadata": {},
   "outputs": [
    {
     "name": "stdout",
     "output_type": "stream",
     "text": [
      "[(0, '0.570*\"claim\" + 0.260*\"say\" + 0.168*\"evid\" + 0.167*\"studi\" + 0.143*\"show\"'), (1, '-0.313*\"publish\" + -0.276*\"energi\" + -0.273*\"use\" + -0.205*\"develop\" + -0.195*\"2024\"')]\n"
     ]
    }
   ],
   "source": [
    "print(lsa_model.print_topics(num_topics=num_topics, num_words=5))"
   ]
  },
  {
   "cell_type": "code",
   "execution_count": 16,
   "id": "212f6eaa-a30c-42c7-a02b-7cbdc2a56bda",
   "metadata": {},
   "outputs": [],
   "source": [
    "from gensim.models.coherencemodel import CoherenceModel\n",
    "import matplotlib.pyplot as plt"
   ]
  },
  {
   "cell_type": "markdown",
   "id": "c53e1c24-a629-4ff6-8700-a0fed2d6b7aa",
   "metadata": {},
   "source": [
    "## Determin Number of Topics"
   ]
  },
  {
   "cell_type": "code",
   "execution_count": 17,
   "id": "c983dad1-51a6-41b0-b7ce-8929b1417877",
   "metadata": {},
   "outputs": [],
   "source": [
    "coherence_values = []\n",
    "model_list = []"
   ]
  },
  {
   "cell_type": "code",
   "execution_count": 18,
   "id": "db7ba3a5-9d9b-44fa-b122-41f5c8bbcbe5",
   "metadata": {},
   "outputs": [],
   "source": [
    "min_topics = 2\n",
    "max_topics = 11"
   ]
  },
  {
   "cell_type": "code",
   "execution_count": 19,
   "id": "9858f608-11f9-43fa-adce-a0cf08f76cc3",
   "metadata": {},
   "outputs": [],
   "source": [
    "for num_topics_i in range(min_topics, max_topics+1):\n",
    "    model = LsiModel(doc_term, num_topics=num_topics_i, id2word = dictionary, random_seed=0)\n",
    "    model_list.append(model)\n",
    "    coherence_model = CoherenceModel(model=model, texts=articles, dictionary=dictionary, coherence='c_v')\n",
    "    coherence_values.append(coherence_model.get_coherence())"
   ]
  },
  {
   "cell_type": "code",
   "execution_count": 20,
   "id": "84fe5c11-d85d-4836-9fab-e3f9dc079114",
   "metadata": {},
   "outputs": [
    {
     "data": {
      "image/png": "[encoded data removed]",
      "text/plain": [
       "<Figure size 640x480 with 1 Axes>"
      ]
     },
     "metadata": {},
     "output_type": "display_data"
    }
   ],
   "source": [
    "plt.plot(range(min_topics, max_topics+1), coherence_values)\n",
    "plt.xlabel(\"Number of Topics\")\n",
    "plt.ylabel(\"Coherence score\")\n",
    "plt.legend((\"coherence_values\"), loc='best')\n",
    "plt.show()"
   ]
  },
  {
   "cell_type": "code",
   "execution_count": 21,
   "id": "4a161e92-fa1d-4f15-a799-cae046af3916",
   "metadata": {},
   "outputs": [
    {
     "name": "stdout",
     "output_type": "stream",
     "text": [
      "[(0, '0.570*\"claim\" + 0.260*\"say\" + 0.168*\"evid\" + 0.167*\"studi\" + 0.143*\"show\"'), (1, '0.313*\"publish\" + 0.276*\"energi\" + 0.273*\"use\" + 0.205*\"develop\" + 0.195*\"2024\"'), (2, '0.406*\"studi\" + -0.248*\"say\" + 0.213*\"lab\" + 0.213*\"chocol\" + -0.205*\"expert\"')]\n"
     ]
    }
   ],
   "source": [
    "final_n_topics = 3\n",
    "lsamodel_f = LsiModel(doc_term, num_topics=final_n_topics, id2word = dictionary) \n",
    "print(lsamodel_f.print_topics(num_topics=final_n_topics, num_words=5))"
   ]
  },
  {
   "cell_type": "code",
   "execution_count": null,
   "id": "ac873535-f143-417f-b4a7-acf2a711c1b1",
   "metadata": {},
   "outputs": [],
   "source": []
  }
 ],
 "metadata": {
  "kernelspec": {
   "display_name": "Python 3 (ipykernel)",
   "language": "python",
   "name": "python3"
  },
  "language_info": {
   "codemirror_mode": {
    "name": "ipython",
    "version": 3
   },
   "file_extension": ".py",
   "mimetype": "text/x-python",
   "name": "python",
   "nbconvert_exporter": "python",
   "pygments_lexer": "ipython3",
   "version": "3.11.11"
  }
 },
 "nbformat": 4,
 "nbformat_minor": 5
}
